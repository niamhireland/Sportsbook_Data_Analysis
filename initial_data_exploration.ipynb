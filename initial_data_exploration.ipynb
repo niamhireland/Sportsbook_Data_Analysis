{
 "cells": [
  {
   "cell_type": "markdown",
   "metadata": {},
   "source": [
    "# Sportsbetting data analysis "
   ]
  },
  {
   "cell_type": "code",
   "execution_count": 1,
   "metadata": {},
   "outputs": [],
   "source": [
    "import pandas as pd \n",
    "import matplotlib.pyplot as plt"
   ]
  },
  {
   "cell_type": "code",
   "execution_count": 2,
   "metadata": {},
   "outputs": [
    {
     "name": "stdout",
     "output_type": "stream",
     "text": [
      "['Data Dictionary', 'Customer Bet Data', 'Customer Data']\n"
     ]
    }
   ],
   "source": [
    "file_path = \"data_analyst_task.xlsx\"\n",
    "xls = pd.ExcelFile(file_path)\n",
    "print(xls.sheet_names)"
   ]
  },
  {
   "cell_type": "code",
   "execution_count": 3,
   "metadata": {},
   "outputs": [],
   "source": [
    "# Load individual sheets to dataframes \n",
    "data_dict = pd.read_excel(xls, sheet_name='Data Dictionary')\n",
    "bets_df = pd.read_excel(xls, sheet_name='Customer Bet Data')\n",
    "customers_df = pd.read_excel(xls, sheet_name='Customer Data')"
   ]
  },
  {
   "cell_type": "code",
   "execution_count": 4,
   "metadata": {},
   "outputs": [
    {
     "name": "stdout",
     "output_type": "stream",
     "text": [
      "\n",
      "=== SHAPE ===\n",
      "Data Dictionary shape: (20, 2)\n",
      "Customer Bet Data shape: (765299, 11)\n",
      "Customer Data shape: (40000, 5)\n"
     ]
    }
   ],
   "source": [
    "# Printing shape to get overview/ confirm correct loading\n",
    "print(\"\\n=== SHAPE ===\")\n",
    "print(f\"Data Dictionary shape: {data_dict.shape}\")\n",
    "print(f\"Customer Bet Data shape: {bets_df.shape}\")\n",
    "print(f\"Customer Data shape: {customers_df.shape}\")"
   ]
  },
  {
   "cell_type": "markdown",
   "metadata": {},
   "source": [
    "## Reading in additional information on datasets "
   ]
  },
  {
   "cell_type": "code",
   "execution_count": 5,
   "metadata": {},
   "outputs": [
    {
     "data": {
      "text/html": [
       "<div>\n",
       "<style scoped>\n",
       "    .dataframe tbody tr th:only-of-type {\n",
       "        vertical-align: middle;\n",
       "    }\n",
       "\n",
       "    .dataframe tbody tr th {\n",
       "        vertical-align: top;\n",
       "    }\n",
       "\n",
       "    .dataframe thead th {\n",
       "        text-align: right;\n",
       "    }\n",
       "</style>\n",
       "<table border=\"1\" class=\"dataframe\">\n",
       "  <thead>\n",
       "    <tr style=\"text-align: right;\">\n",
       "      <th></th>\n",
       "      <th>Column Name</th>\n",
       "      <th>Description</th>\n",
       "    </tr>\n",
       "  </thead>\n",
       "  <tbody>\n",
       "    <tr>\n",
       "      <th>0</th>\n",
       "      <td>month</td>\n",
       "      <td>The month that a bet was settled, format YYYY-MM</td>\n",
       "    </tr>\n",
       "    <tr>\n",
       "      <th>1</th>\n",
       "      <td>account_id</td>\n",
       "      <td>The unique identifier for an account</td>\n",
       "    </tr>\n",
       "    <tr>\n",
       "      <th>2</th>\n",
       "      <td>sport_name</td>\n",
       "      <td>The name of the sport a bet was placed on</td>\n",
       "    </tr>\n",
       "    <tr>\n",
       "      <th>3</th>\n",
       "      <td>in_play_yn</td>\n",
       "      <td>Y/N flag indicating whether a bet was placed on an event that was in-play at the time of placement</td>\n",
       "    </tr>\n",
       "    <tr>\n",
       "      <th>4</th>\n",
       "      <td>freebet_used_yn</td>\n",
       "      <td>Y/N flag indicating whether at least part of the amount placed on the bet was from a free bet</td>\n",
       "    </tr>\n",
       "    <tr>\n",
       "      <th>5</th>\n",
       "      <td>bet_type</td>\n",
       "      <td>The type of bet placed. Single - only one selection included in the bet, Multiple - more than one selection included in the bet</td>\n",
       "    </tr>\n",
       "    <tr>\n",
       "      <th>6</th>\n",
       "      <td>max_bet_yn</td>\n",
       "      <td>Y/N flag indicating whether the amount placed on the bet was &gt;80% of the maximum amount allowed. The maximum value can differ by customer</td>\n",
       "    </tr>\n",
       "    <tr>\n",
       "      <th>7</th>\n",
       "      <td>market_group</td>\n",
       "      <td>The market type a bet was placed on, this differs by sport</td>\n",
       "    </tr>\n",
       "    <tr>\n",
       "      <th>8</th>\n",
       "      <td>stakes</td>\n",
       "      <td>Total monetary amount placed (in GBP)</td>\n",
       "    </tr>\n",
       "    <tr>\n",
       "      <th>9</th>\n",
       "      <td>revenue</td>\n",
       "      <td>Total revenue earned by the business (in GBP)</td>\n",
       "    </tr>\n",
       "    <tr>\n",
       "      <th>10</th>\n",
       "      <td>betcount</td>\n",
       "      <td>Number of unique bets placed</td>\n",
       "    </tr>\n",
       "    <tr>\n",
       "      <th>11</th>\n",
       "      <td>NaN</td>\n",
       "      <td>NaN</td>\n",
       "    </tr>\n",
       "    <tr>\n",
       "      <th>12</th>\n",
       "      <td>Account-Specific Datapoints</td>\n",
       "      <td>NaN</td>\n",
       "    </tr>\n",
       "    <tr>\n",
       "      <th>13</th>\n",
       "      <td>NaN</td>\n",
       "      <td>NaN</td>\n",
       "    </tr>\n",
       "    <tr>\n",
       "      <th>14</th>\n",
       "      <td>Column Name</td>\n",
       "      <td>Description</td>\n",
       "    </tr>\n",
       "    <tr>\n",
       "      <th>15</th>\n",
       "      <td>account_id</td>\n",
       "      <td>The unique identifier for an account</td>\n",
       "    </tr>\n",
       "    <tr>\n",
       "      <th>16</th>\n",
       "      <td>marketing_channel</td>\n",
       "      <td>The marketing channel of the registration</td>\n",
       "    </tr>\n",
       "    <tr>\n",
       "      <th>17</th>\n",
       "      <td>account_open_datetime</td>\n",
       "      <td>The timestamp for when the account was opened</td>\n",
       "    </tr>\n",
       "    <tr>\n",
       "      <th>18</th>\n",
       "      <td>residence_country</td>\n",
       "      <td>The country that the account holder resides in</td>\n",
       "    </tr>\n",
       "    <tr>\n",
       "      <th>19</th>\n",
       "      <td>sharp_yn</td>\n",
       "      <td>Y/N flag indicating whether the customer has been identified as a sharp/shrewd bettor</td>\n",
       "    </tr>\n",
       "  </tbody>\n",
       "</table>\n",
       "</div>"
      ],
      "text/plain": [
       "                    Column Name  \\\n",
       "0                         month   \n",
       "1                    account_id   \n",
       "2                    sport_name   \n",
       "3                    in_play_yn   \n",
       "4               freebet_used_yn   \n",
       "5                      bet_type   \n",
       "6                    max_bet_yn   \n",
       "7                  market_group   \n",
       "8                        stakes   \n",
       "9                       revenue   \n",
       "10                     betcount   \n",
       "11                          NaN   \n",
       "12  Account-Specific Datapoints   \n",
       "13                          NaN   \n",
       "14                  Column Name   \n",
       "15                   account_id   \n",
       "16            marketing_channel   \n",
       "17        account_open_datetime   \n",
       "18            residence_country   \n",
       "19                     sharp_yn   \n",
       "\n",
       "                                                                                                                                  Description  \n",
       "0                                                                                            The month that a bet was settled, format YYYY-MM  \n",
       "1                                                                                                        The unique identifier for an account  \n",
       "2                                                                                                   The name of the sport a bet was placed on  \n",
       "3                                         Y/N flag indicating whether a bet was placed on an event that was in-play at the time of placement   \n",
       "4                                               Y/N flag indicating whether at least part of the amount placed on the bet was from a free bet  \n",
       "5             The type of bet placed. Single - only one selection included in the bet, Multiple - more than one selection included in the bet  \n",
       "6   Y/N flag indicating whether the amount placed on the bet was >80% of the maximum amount allowed. The maximum value can differ by customer  \n",
       "7                                                                                  The market type a bet was placed on, this differs by sport  \n",
       "8                                                                                                       Total monetary amount placed (in GBP)  \n",
       "9                                                                                               Total revenue earned by the business (in GBP)  \n",
       "10                                                                                                               Number of unique bets placed  \n",
       "11                                                                                                                                        NaN  \n",
       "12                                                                                                                                        NaN  \n",
       "13                                                                                                                                        NaN  \n",
       "14                                                                                                                                Description  \n",
       "15                                                                                                       The unique identifier for an account  \n",
       "16                                                                                                  The marketing channel of the registration  \n",
       "17                                                                                              The timestamp for when the account was opened  \n",
       "18                                                                                             The country that the account holder resides in  \n",
       "19                                                      Y/N flag indicating whether the customer has been identified as a sharp/shrewd bettor  "
      ]
     },
     "metadata": {},
     "output_type": "display_data"
    }
   ],
   "source": [
    "pd.set_option('display.max_colwidth', None)\n",
    "display(data_dict.head(20))\n",
    "pd.reset_option('display.max_colwidth') # Returning to normal for later reading in"
   ]
  },
  {
   "cell_type": "markdown",
   "metadata": {},
   "source": [
    "## Checking customer data integrity "
   ]
  },
  {
   "cell_type": "code",
   "execution_count": 6,
   "metadata": {},
   "outputs": [
    {
     "data": {
      "text/html": [
       "<div>\n",
       "<style scoped>\n",
       "    .dataframe tbody tr th:only-of-type {\n",
       "        vertical-align: middle;\n",
       "    }\n",
       "\n",
       "    .dataframe tbody tr th {\n",
       "        vertical-align: top;\n",
       "    }\n",
       "\n",
       "    .dataframe thead th {\n",
       "        text-align: right;\n",
       "    }\n",
       "</style>\n",
       "<table border=\"1\" class=\"dataframe\">\n",
       "  <thead>\n",
       "    <tr style=\"text-align: right;\">\n",
       "      <th></th>\n",
       "      <th>account_id</th>\n",
       "      <th>marketing_channel</th>\n",
       "      <th>account_open_datetime</th>\n",
       "      <th>residence_country</th>\n",
       "      <th>sharp_yn</th>\n",
       "    </tr>\n",
       "  </thead>\n",
       "  <tbody>\n",
       "    <tr>\n",
       "      <th>0</th>\n",
       "      <td>1</td>\n",
       "      <td>SEO</td>\n",
       "      <td>2015-03-19 18:41:41</td>\n",
       "      <td>Ireland</td>\n",
       "      <td>N</td>\n",
       "    </tr>\n",
       "    <tr>\n",
       "      <th>1</th>\n",
       "      <td>2</td>\n",
       "      <td>PPC (inc Competitor)</td>\n",
       "      <td>2018-04-14 11:13:03</td>\n",
       "      <td>United Kingdom</td>\n",
       "      <td>N</td>\n",
       "    </tr>\n",
       "    <tr>\n",
       "      <th>2</th>\n",
       "      <td>3</td>\n",
       "      <td>SEO</td>\n",
       "      <td>2015-04-11 09:35:37</td>\n",
       "      <td>United Kingdom</td>\n",
       "      <td>N</td>\n",
       "    </tr>\n",
       "    <tr>\n",
       "      <th>3</th>\n",
       "      <td>4</td>\n",
       "      <td>Direct</td>\n",
       "      <td>2016-08-21 15:01:47</td>\n",
       "      <td>United Kingdom</td>\n",
       "      <td>N</td>\n",
       "    </tr>\n",
       "    <tr>\n",
       "      <th>4</th>\n",
       "      <td>5</td>\n",
       "      <td>SEO</td>\n",
       "      <td>2006-10-05 19:25:48</td>\n",
       "      <td>Ireland</td>\n",
       "      <td>N</td>\n",
       "    </tr>\n",
       "  </tbody>\n",
       "</table>\n",
       "</div>"
      ],
      "text/plain": [
       "   account_id     marketing_channel account_open_datetime residence_country  \\\n",
       "0           1                   SEO   2015-03-19 18:41:41           Ireland   \n",
       "1           2  PPC (inc Competitor)   2018-04-14 11:13:03    United Kingdom   \n",
       "2           3                   SEO   2015-04-11 09:35:37    United Kingdom   \n",
       "3           4                Direct   2016-08-21 15:01:47    United Kingdom   \n",
       "4           5                   SEO   2006-10-05 19:25:48           Ireland   \n",
       "\n",
       "  sharp_yn  \n",
       "0        N  \n",
       "1        N  \n",
       "2        N  \n",
       "3        N  \n",
       "4        N  "
      ]
     },
     "execution_count": 6,
     "metadata": {},
     "output_type": "execute_result"
    }
   ],
   "source": [
    "customers_df.head()"
   ]
  },
  {
   "cell_type": "code",
   "execution_count": 7,
   "metadata": {},
   "outputs": [
    {
     "name": "stdout",
     "output_type": "stream",
     "text": [
      "\n",
      "Customer Data dtypes:\n",
      "account_id                        int64\n",
      "marketing_channel                object\n",
      "account_open_datetime    datetime64[ns]\n",
      "residence_country                object\n",
      "sharp_yn                         object\n",
      "dtype: object\n"
     ]
    }
   ],
   "source": [
    "print(\"\\nCustomer Data dtypes:\")\n",
    "print(customers_df.dtypes)"
   ]
  },
  {
   "cell_type": "code",
   "execution_count": 8,
   "metadata": {},
   "outputs": [
    {
     "name": "stdout",
     "output_type": "stream",
     "text": [
      "\n",
      "Customer Data missing values:\n",
      "account_id               0\n",
      "marketing_channel        0\n",
      "account_open_datetime    0\n",
      "residence_country        0\n",
      "sharp_yn                 0\n",
      "dtype: int64\n"
     ]
    }
   ],
   "source": [
    "print(\"\\nCustomer Data missing values:\")\n",
    "print(customers_df.isnull().sum())"
   ]
  },
  {
   "cell_type": "code",
   "execution_count": 9,
   "metadata": {},
   "outputs": [
    {
     "name": "stdout",
     "output_type": "stream",
     "text": [
      "\n",
      "Customer Data duplicate values:\n"
     ]
    },
    {
     "data": {
      "text/plain": [
       "0"
      ]
     },
     "execution_count": 9,
     "metadata": {},
     "output_type": "execute_result"
    }
   ],
   "source": [
    "print(\"\\nCustomer Data duplicate values:\")\n",
    "customers_df.duplicated().sum()"
   ]
  },
  {
   "cell_type": "code",
   "execution_count": 10,
   "metadata": {},
   "outputs": [
    {
     "name": "stdout",
     "output_type": "stream",
     "text": [
      "\n",
      "Customer Data summary:\n",
      "         account_id marketing_channel          account_open_datetime  \\\n",
      "count   40000.00000             40000                          40000   \n",
      "unique          NaN                11                            NaN   \n",
      "top             NaN            Direct                            NaN   \n",
      "freq            NaN             13662                            NaN   \n",
      "mean    20000.50000               NaN     2015-10-15 20:01:37.732000   \n",
      "min         1.00000               NaN            1997-04-30 23:00:00   \n",
      "25%     10000.75000               NaN  2014-04-05 14:40:55.750000128   \n",
      "50%     20000.50000               NaN     2017-03-14 10:52:49.500000   \n",
      "75%     30000.25000               NaN            2018-04-14 12:54:11   \n",
      "max     40000.00000               NaN            2018-12-31 15:05:48   \n",
      "std     11547.14972               NaN                            NaN   \n",
      "\n",
      "       residence_country sharp_yn  \n",
      "count              40000    40000  \n",
      "unique                72        2  \n",
      "top       United Kingdom        N  \n",
      "freq               32601    30000  \n",
      "mean                 NaN      NaN  \n",
      "min                  NaN      NaN  \n",
      "25%                  NaN      NaN  \n",
      "50%                  NaN      NaN  \n",
      "75%                  NaN      NaN  \n",
      "max                  NaN      NaN  \n",
      "std                  NaN      NaN  \n"
     ]
    }
   ],
   "source": [
    "print(\"\\nCustomer Data summary:\")\n",
    "print(customers_df.describe(include='all'))"
   ]
  },
  {
   "cell_type": "markdown",
   "metadata": {},
   "source": [
    "### Initial notes and insights on customer data \n",
    "\n",
    "1. No duplicates or missing values found. \n",
    "2. Each row represents a unique customer account, with 40,000 altogether.\n",
    "3. A wide range of opening dates are visible, beginning in 1997. Therefore, I have a mix of old and new customers, which could offer insight on betting tendencies, profitability etc. This might need segmenting by tenure, as most have joined in recent years.\n",
    "4. The vast majority of customers are from the UK. I could compare UK vs non-UK customer activities (betting behaviour etc) but may have to filter out countries with exceedingly small amounts of users. \n",
    "5. On marketing channel, there are 11 options with direct being most common. Channel vs profitability etc could be interesting to explore. Could segment these by channel.\n",
    "6. A quarter of users are marked as sharp. Their betting trends could be explored, such as what sports they bet on, whether their revenue per bet is lower etc."
   ]
  },
  {
   "cell_type": "markdown",
   "metadata": {},
   "source": [
    "## Additional processing on customer data "
   ]
  },
  {
   "cell_type": "code",
   "execution_count": 11,
   "metadata": {},
   "outputs": [
    {
     "name": "stdout",
     "output_type": "stream",
     "text": [
      "residence_country\n",
      "United Kingdom                                   81.5025\n",
      "Ireland                                          14.9850\n",
      "Russian Federation                                0.7425\n",
      "Ukraine                                           0.4175\n",
      "Sweden                                            0.2500\n",
      "                                                  ...   \n",
      "British Virgin Islands                            0.0025\n",
      "Cameroon                                          0.0025\n",
      "Qatar                                             0.0025\n",
      "Nepal                                             0.0025\n",
      "Macao, Special Administrative Region of China     0.0025\n",
      "Name: proportion, Length: 72, dtype: float64\n"
     ]
    }
   ],
   "source": [
    "# Checking the percentage count of users by country \n",
    "country_counts = customers_df['residence_country'].value_counts(normalize=True) * 100\n",
    "print(country_counts)"
   ]
  },
  {
   "cell_type": "code",
   "execution_count": 12,
   "metadata": {},
   "outputs": [
    {
     "name": "stdout",
     "output_type": "stream",
     "text": [
      "country_group\n",
      "United Kingdom    81.5025\n",
      "Ireland           14.9850\n",
      "Other              3.5125\n",
      "Name: proportion, dtype: float64\n"
     ]
    }
   ],
   "source": [
    "# Keeping the specific country if it is UK or Ireland\n",
    "# Otherwise, collating them as 'Other' due to the significantly low values in the dataset\n",
    "\n",
    "customers_df['country_group'] = customers_df['residence_country'].apply(lambda x: x if x in ['United Kingdom', 'Ireland'] else 'Other')\n",
    "\n",
    "country_group_counts = customers_df['country_group'].value_counts(normalize=True) * 100\n",
    "print(country_group_counts)"
   ]
  },
  {
   "cell_type": "markdown",
   "metadata": {},
   "source": [
    "The market is heaviy UK focused, with Ireland representing a significant minority. The 'other' countries likely have lower overall impact. \n",
    "\n",
    "Most analysis should focus on the UK, since it dominates the dataset. But Ireland, as a secondary market, deserves attention as there may be additional trends at play. Other may be excluded as the small size may make it difficult to spot trends. Additionally, as it is comprised of 70 countries, there are probably huge regional variations (among few players) at play."
   ]
  },
  {
   "cell_type": "code",
   "execution_count": 18,
   "metadata": {},
   "outputs": [
    {
     "name": "stdout",
     "output_type": "stream",
     "text": [
      "country_group\n",
      "Other             93.736655\n",
      "United Kingdom    25.048311\n",
      "Ireland            8.625292\n",
      "Name: sharp_yn, dtype: float64\n"
     ]
    }
   ],
   "source": [
    "# Checking what percentage of users from each country group are marked as sharp \n",
    "sharp_percent_by_country = customers_df.groupby(\"country_group\")[\"sharp_yn\"].apply(\n",
    "    lambda x: (x == \"Y\").mean() * 100\n",
    ").sort_values(ascending=False)\n",
    "\n",
    "print(sharp_percent_by_country)"
   ]
  },
  {
   "cell_type": "markdown",
   "metadata": {},
   "source": [
    "The users from non-Ireland/UK countries are overwhelmingly sharp. This could be explored further: \n",
    "- may indicate targeted/fradulent accounts \n",
    "- sharp users may be utilising this platform from other jurisdictions \n",
    "- possible use of VPNs or similar \n",
    "\n",
    "Ireland and the UK make up the majority of users but show much lower sharp rates. Therefore, these may be the core recreational base. "
   ]
  },
  {
   "cell_type": "code",
   "execution_count": 13,
   "metadata": {},
   "outputs": [
    {
     "name": "stdout",
     "output_type": "stream",
     "text": [
      "  account_open_datetime  account_open_year  account_open_month\n",
      "0   2015-03-19 18:41:41               2015                   3\n",
      "1   2018-04-14 11:13:03               2018                   4\n",
      "2   2015-04-11 09:35:37               2015                   4\n",
      "3   2016-08-21 15:01:47               2016                   8\n",
      "4   2006-10-05 19:25:48               2006                  10\n"
     ]
    }
   ],
   "source": [
    "# Simplifying the exact timestamp value to respective columns for date and month, to allow for trend analysis without noise\n",
    "\n",
    "customers_df['account_open_year'] = customers_df['account_open_datetime'].dt.year\n",
    "customers_df['account_open_month'] = customers_df['account_open_datetime'].dt.month\n",
    "\n",
    "print(customers_df[['account_open_datetime', 'account_open_year', 'account_open_month']].head())"
   ]
  },
  {
   "cell_type": "code",
   "execution_count": 14,
   "metadata": {},
   "outputs": [
    {
     "name": "stdout",
     "output_type": "stream",
     "text": [
      "account_open_year\n",
      "2018    38.0725\n",
      "2017    14.9425\n",
      "2016    11.3050\n",
      "2015     7.0075\n",
      "2014     6.5025\n",
      "2012     4.2550\n",
      "2013     4.2275\n",
      "2011     3.4600\n",
      "2010     2.7675\n",
      "2009     1.6975\n",
      "2008     1.4000\n",
      "2007     1.0125\n",
      "2006     1.0075\n",
      "2005     0.5975\n",
      "2002     0.4725\n",
      "2004     0.4400\n",
      "2003     0.3825\n",
      "2001     0.2350\n",
      "2000     0.1250\n",
      "1997     0.0300\n",
      "1998     0.0300\n",
      "1999     0.0300\n",
      "Name: proportion, dtype: float64\n"
     ]
    }
   ],
   "source": [
    "# Exploring the spread of account opening dates (by year)\n",
    "\n",
    "year_percentages = customers_df['account_open_year'].value_counts(normalize=True) * 100\n",
    "print(year_percentages)"
   ]
  },
  {
   "cell_type": "markdown",
   "metadata": {},
   "source": [
    "A large chunk of the accounts opened in 2018 (the year of the bets being placed). Therefore, there is a strong influx of new customers. \n",
    "\n",
    "Account openings drop steadily as you go back in years, indicating that older accounts are less active over time. \n",
    "\n",
    "The customer tenure is very skewed to new accounts. I could segment customers by tenure (2018 accounts vs earlier) to see if behaviour differs by how long they have been active. \n",
    "\n",
    "I could track growth trends; eg how did recent accounts perform as compared to existing customers. "
   ]
  },
  {
   "cell_type": "code",
   "execution_count": 23,
   "metadata": {},
   "outputs": [
    {
     "name": "stdout",
     "output_type": "stream",
     "text": [
      "account_open_year\n",
      "1997    25.000000\n",
      "1998    25.000000\n",
      "1999    16.666667\n",
      "2000    28.000000\n",
      "2001    43.617021\n",
      "2002    53.968254\n",
      "2003    32.026144\n",
      "2004    36.363636\n",
      "2005    28.870293\n",
      "2006    26.054591\n",
      "2007    24.197531\n",
      "2008    25.714286\n",
      "2009    24.889543\n",
      "2010    21.951220\n",
      "2011    20.736994\n",
      "2012    19.623972\n",
      "2013    18.687167\n",
      "2014    17.800846\n",
      "2015    22.297538\n",
      "2016    25.939850\n",
      "2017    25.079471\n",
      "2018    27.559262\n",
      "Name: sharp_percent, dtype: float64\n"
     ]
    }
   ],
   "source": [
    "# Exploring the percentage of sharp accounts by opening year\n",
    "counts = customers_df.groupby(['account_open_year', 'sharp_yn']).size().unstack(fill_value=0)\n",
    "counts['sharp_percent'] = counts['Y'] / (counts['Y'] + counts['N']) * 100\n",
    "\n",
    "print(counts['sharp_percent'])"
   ]
  },
  {
   "cell_type": "markdown",
   "metadata": {},
   "source": [
    "Sharpness isn't concentrated in one age group of accounts, there are peaks and troughs.\n",
    "\n",
    "Overall, the older accounts have a higher percentage of sharp bettors. It may show that long-term customers are sharper (perhaps through learning betting strategies over time).\n",
    "\n",
    "Recent accounts still show a relatively high percentage of sharps, so they may be also quite savvy (or sharp bettors are joining actively).\n",
    "\n",
    "There is a dip in sharpness from 2010 - 2015, which might indicate a different user base signing up at that time. "
   ]
  },
  {
   "cell_type": "code",
   "execution_count": 25,
   "metadata": {},
   "outputs": [
    {
     "name": "stdout",
     "output_type": "stream",
     "text": [
      "country_group      Ireland   Other  United Kingdom\n",
      "account_open_year                                 \n",
      "1997                 25.00     NaN             NaN\n",
      "1998                 25.00     NaN             NaN\n",
      "1999                 16.67     NaN             NaN\n",
      "2000                 12.50     NaN           90.00\n",
      "2001                  7.14     NaN           73.08\n",
      "2002                 17.39     NaN           65.73\n",
      "2003                  5.77     NaN           45.54\n",
      "2004                 10.42    0.00           46.46\n",
      "2005                  9.59     NaN           37.35\n",
      "2006                  8.90  100.00           35.55\n",
      "2007                  9.27     NaN           33.07\n",
      "2008                 13.30  100.00           31.44\n",
      "2009                  9.78  100.00           29.36\n",
      "2010                  7.35   60.00           25.90\n",
      "2011                  6.97  100.00           23.99\n",
      "2012                  6.53   91.67           22.42\n",
      "2013                 10.05   92.31           20.46\n",
      "2014                  7.35   81.82           19.74\n",
      "2015                  9.90   68.97           24.52\n",
      "2016                  9.28   90.80           27.14\n",
      "2017                  8.76   93.10           26.10\n",
      "2018                  7.26   95.10           23.78\n"
     ]
    }
   ],
   "source": [
    "# Breaking down yearly sharp percentages by country group\n",
    "\n",
    "customers_df['sharp_flag'] = customers_df['sharp_yn'].map({'Y': 1, 'N': 0})\n",
    "sharp_by_country_year = customers_df.groupby(['country_group', 'account_open_year'])['sharp_flag'].mean() * 100\n",
    "\n",
    "sharp_pivot = sharp_by_country_year.reset_index().pivot(index='account_open_year', columns='country_group', values='sharp_flag')\n",
    "sharp_pivot = sharp_pivot.round(2)\n",
    "\n",
    "print(sharp_pivot)"
   ]
  },
  {
   "cell_type": "markdown",
   "metadata": {},
   "source": [
    "There's a clear downward trend in UK sharp percentage - either new UK accounts are less likely to be flagged or sharp bettors are utilising old accounts. \n",
    "\n",
    "Ireland has the lowest sharp percentages overall (so Irish sharp bettors are either less prevalent or not consistently flagged). In Ireland, like the UK, the average rate of sharpness is trending downwards on younger accounts. \n",
    "\n",
    "Consistent high rate of sharpness in the 'Other' group. "
   ]
  },
  {
   "cell_type": "code",
   "execution_count": 15,
   "metadata": {},
   "outputs": [
    {
     "name": "stdout",
     "output_type": "stream",
     "text": [
      "marketing_channel\n",
      "Direct                  34.1550\n",
      "Affiliates              18.4825\n",
      "SEO                     16.3900\n",
      "PPC Brand               15.5150\n",
      "PPC (inc Competitor)     8.0775\n",
      "Display                  2.9700\n",
      "Social                   2.4525\n",
      "Other                    1.5400\n",
      "PPC ASA                  0.2625\n",
      "RAE                      0.1450\n",
      "PPC UAC                  0.0100\n",
      "Name: proportion, dtype: float64\n"
     ]
    }
   ],
   "source": [
    "# Checking the percentage count of marketing channels\n",
    "channel_counts = customers_df['marketing_channel'].value_counts(normalize=True) * 100\n",
    "print(channel_counts)"
   ]
  },
  {
   "cell_type": "markdown",
   "metadata": {},
   "source": [
    "The largest share of customers are acquired directly (possibly indicating strong brand recognition?). Affiliates, SEO, paid search marketing and campaigns also seem profitable. \n",
    "\n",
    "From this, focus could be placed on the largest channels for retention/optimisation. Questions could be asked if smaller channels underperform (perhaps connecting here to revenue in the bets data)"
   ]
  },
  {
   "cell_type": "code",
   "execution_count": 20,
   "metadata": {},
   "outputs": [
    {
     "name": "stdout",
     "output_type": "stream",
     "text": [
      "sharp_yn                Sharp %\n",
      "marketing_channel              \n",
      "Affiliates            38.874611\n",
      "Direct                23.034695\n",
      "Display                9.511785\n",
      "Other                 22.727273\n",
      "PPC (inc Competitor)   8.882699\n",
      "PPC ASA               13.333333\n",
      "PPC Brand             21.028037\n",
      "PPC UAC               25.000000\n",
      "RAE                   36.206897\n",
      "SEO                   30.109823\n",
      "Social                12.640163\n"
     ]
    }
   ],
   "source": [
    "# Checking sharp users by marketing channel \n",
    "sharp_by_channel = customers_df.groupby('marketing_channel')['sharp_yn'].value_counts(normalize=True).unstack().fillna(0)\n",
    "sharp_by_channel['Sharp %'] = sharp_by_channel['Y'] * 100\n",
    "print(sharp_by_channel[['Sharp %']])"
   ]
  },
  {
   "cell_type": "markdown",
   "metadata": {},
   "source": [
    "Affiliates, RAE and SEO seem to be attracting more sharp bettors. Risk management may consider marketing channel as a factor, since sharp bettors behave differently. "
   ]
  },
  {
   "cell_type": "code",
   "execution_count": 22,
   "metadata": {},
   "outputs": [
    {
     "data": {
      "text/html": [
       "<div>\n",
       "<style scoped>\n",
       "    .dataframe tbody tr th:only-of-type {\n",
       "        vertical-align: middle;\n",
       "    }\n",
       "\n",
       "    .dataframe tbody tr th {\n",
       "        vertical-align: top;\n",
       "    }\n",
       "\n",
       "    .dataframe thead th {\n",
       "        text-align: right;\n",
       "    }\n",
       "</style>\n",
       "<table border=\"1\" class=\"dataframe\">\n",
       "  <thead>\n",
       "    <tr style=\"text-align: right;\">\n",
       "      <th>country_group</th>\n",
       "      <th>Ireland</th>\n",
       "      <th>Other</th>\n",
       "      <th>United Kingdom</th>\n",
       "    </tr>\n",
       "    <tr>\n",
       "      <th>marketing_channel</th>\n",
       "      <th></th>\n",
       "      <th></th>\n",
       "      <th></th>\n",
       "    </tr>\n",
       "  </thead>\n",
       "  <tbody>\n",
       "    <tr>\n",
       "      <th>Affiliates</th>\n",
       "      <td>22.983871</td>\n",
       "      <td>92.608696</td>\n",
       "      <td>37.657267</td>\n",
       "    </tr>\n",
       "    <tr>\n",
       "      <th>Direct</th>\n",
       "      <td>8.078751</td>\n",
       "      <td>95.017182</td>\n",
       "      <td>23.248470</td>\n",
       "    </tr>\n",
       "    <tr>\n",
       "      <th>Display</th>\n",
       "      <td>5.442177</td>\n",
       "      <td>100.000000</td>\n",
       "      <td>10.549944</td>\n",
       "    </tr>\n",
       "    <tr>\n",
       "      <th>Other</th>\n",
       "      <td>12.698413</td>\n",
       "      <td>NaN</td>\n",
       "      <td>27.166276</td>\n",
       "    </tr>\n",
       "    <tr>\n",
       "      <th>PPC (inc Competitor)</th>\n",
       "      <td>3.496503</td>\n",
       "      <td>90.909091</td>\n",
       "      <td>8.839779</td>\n",
       "    </tr>\n",
       "    <tr>\n",
       "      <th>PPC ASA</th>\n",
       "      <td>0.000000</td>\n",
       "      <td>100.000000</td>\n",
       "      <td>12.621359</td>\n",
       "    </tr>\n",
       "    <tr>\n",
       "      <th>PPC Brand</th>\n",
       "      <td>7.931034</td>\n",
       "      <td>94.117647</td>\n",
       "      <td>22.936642</td>\n",
       "    </tr>\n",
       "    <tr>\n",
       "      <th>PPC UAC</th>\n",
       "      <td>NaN</td>\n",
       "      <td>NaN</td>\n",
       "      <td>25.000000</td>\n",
       "    </tr>\n",
       "    <tr>\n",
       "      <th>RAE</th>\n",
       "      <td>0.000000</td>\n",
       "      <td>100.000000</td>\n",
       "      <td>29.545455</td>\n",
       "    </tr>\n",
       "    <tr>\n",
       "      <th>SEO</th>\n",
       "      <td>8.032787</td>\n",
       "      <td>92.647059</td>\n",
       "      <td>28.631052</td>\n",
       "    </tr>\n",
       "    <tr>\n",
       "      <th>Social</th>\n",
       "      <td>12.987013</td>\n",
       "      <td>100.000000</td>\n",
       "      <td>11.731844</td>\n",
       "    </tr>\n",
       "  </tbody>\n",
       "</table>\n",
       "</div>"
      ],
      "text/plain": [
       "country_group           Ireland       Other  United Kingdom\n",
       "marketing_channel                                          \n",
       "Affiliates            22.983871   92.608696       37.657267\n",
       "Direct                 8.078751   95.017182       23.248470\n",
       "Display                5.442177  100.000000       10.549944\n",
       "Other                 12.698413         NaN       27.166276\n",
       "PPC (inc Competitor)   3.496503   90.909091        8.839779\n",
       "PPC ASA                0.000000  100.000000       12.621359\n",
       "PPC Brand              7.931034   94.117647       22.936642\n",
       "PPC UAC                     NaN         NaN       25.000000\n",
       "RAE                    0.000000  100.000000       29.545455\n",
       "SEO                    8.032787   92.647059       28.631052\n",
       "Social                12.987013  100.000000       11.731844"
      ]
     },
     "execution_count": 22,
     "metadata": {},
     "output_type": "execute_result"
    }
   ],
   "source": [
    "pd.crosstab(index=customers_df['marketing_channel'], \n",
    "            columns=customers_df['country_group'], \n",
    "            values=customers_df['sharp_yn'].map({'Y': 1, 'N': 0}), \n",
    "            aggfunc='mean') * 100"
   ]
  },
  {
   "cell_type": "markdown",
   "metadata": {},
   "source": [
    "Again, the sharp concentration in 'Other' countries is standing out clearly. Across each marketing channel, sharp users are heavily overrepresented. Users from 'other' countries represent an acquisition risk - they're nearly all sharp, no matter the channel.\n",
    "\n",
    "Overall, Ireland tends to have lower sharp rates, possibly indicating a more recreational user base.\n",
    "\n",
    "UK is a mixed bag: some channels are attracting sharp behaviour and others are not.  \n",
    "\n",
    "Channel-level marketing may need scrutiny due to the range in sharp rates seen (Affiliate, direct and SEO). It's possible that different regions need different marketing strategies."
   ]
  },
  {
   "cell_type": "markdown",
   "metadata": {},
   "source": [
    "## Checking customer bet data integrity"
   ]
  },
  {
   "cell_type": "code",
   "execution_count": 16,
   "metadata": {},
   "outputs": [
    {
     "data": {
      "text/html": [
       "<div>\n",
       "<style scoped>\n",
       "    .dataframe tbody tr th:only-of-type {\n",
       "        vertical-align: middle;\n",
       "    }\n",
       "\n",
       "    .dataframe tbody tr th {\n",
       "        vertical-align: top;\n",
       "    }\n",
       "\n",
       "    .dataframe thead th {\n",
       "        text-align: right;\n",
       "    }\n",
       "</style>\n",
       "<table border=\"1\" class=\"dataframe\">\n",
       "  <thead>\n",
       "    <tr style=\"text-align: right;\">\n",
       "      <th></th>\n",
       "      <th>month</th>\n",
       "      <th>account_id</th>\n",
       "      <th>sport_name</th>\n",
       "      <th>in_play_yn</th>\n",
       "      <th>freebet_used_yn</th>\n",
       "      <th>bet_type</th>\n",
       "      <th>max_bet_yn</th>\n",
       "      <th>market_group</th>\n",
       "      <th>stakes</th>\n",
       "      <th>revenue</th>\n",
       "      <th>betcount</th>\n",
       "    </tr>\n",
       "  </thead>\n",
       "  <tbody>\n",
       "    <tr>\n",
       "      <th>0</th>\n",
       "      <td>2018-03</td>\n",
       "      <td>26928</td>\n",
       "      <td>Horse Racing</td>\n",
       "      <td>N</td>\n",
       "      <td>N</td>\n",
       "      <td>Single</td>\n",
       "      <td>N</td>\n",
       "      <td>Derivative Markets</td>\n",
       "      <td>9.282234</td>\n",
       "      <td>9.282234</td>\n",
       "      <td>1</td>\n",
       "    </tr>\n",
       "    <tr>\n",
       "      <th>1</th>\n",
       "      <td>2018-07</td>\n",
       "      <td>710</td>\n",
       "      <td>Golf</td>\n",
       "      <td>N</td>\n",
       "      <td>N</td>\n",
       "      <td>Single</td>\n",
       "      <td>N</td>\n",
       "      <td>Outright</td>\n",
       "      <td>8.715135</td>\n",
       "      <td>8.715135</td>\n",
       "      <td>1</td>\n",
       "    </tr>\n",
       "    <tr>\n",
       "      <th>2</th>\n",
       "      <td>2018-11</td>\n",
       "      <td>12592</td>\n",
       "      <td>Soccer</td>\n",
       "      <td>N</td>\n",
       "      <td>N</td>\n",
       "      <td>Multiple</td>\n",
       "      <td>N</td>\n",
       "      <td>Match Odds</td>\n",
       "      <td>9.395684</td>\n",
       "      <td>9.395684</td>\n",
       "      <td>2</td>\n",
       "    </tr>\n",
       "    <tr>\n",
       "      <th>3</th>\n",
       "      <td>2018-11</td>\n",
       "      <td>349</td>\n",
       "      <td>Soccer</td>\n",
       "      <td>N</td>\n",
       "      <td>N</td>\n",
       "      <td>Single</td>\n",
       "      <td>Y</td>\n",
       "      <td>Commercial Specials</td>\n",
       "      <td>18.583440</td>\n",
       "      <td>18.583440</td>\n",
       "      <td>1</td>\n",
       "    </tr>\n",
       "    <tr>\n",
       "      <th>4</th>\n",
       "      <td>2018-11</td>\n",
       "      <td>15999</td>\n",
       "      <td>Soccer</td>\n",
       "      <td>N</td>\n",
       "      <td>N</td>\n",
       "      <td>Single</td>\n",
       "      <td>N</td>\n",
       "      <td>Over/Under Markets</td>\n",
       "      <td>16.669625</td>\n",
       "      <td>8.334812</td>\n",
       "      <td>2</td>\n",
       "    </tr>\n",
       "  </tbody>\n",
       "</table>\n",
       "</div>"
      ],
      "text/plain": [
       "     month  account_id    sport_name in_play_yn freebet_used_yn  bet_type  \\\n",
       "0  2018-03       26928  Horse Racing          N               N    Single   \n",
       "1  2018-07         710          Golf          N               N    Single   \n",
       "2  2018-11       12592        Soccer          N               N  Multiple   \n",
       "3  2018-11         349        Soccer          N               N    Single   \n",
       "4  2018-11       15999        Soccer          N               N    Single   \n",
       "\n",
       "  max_bet_yn         market_group     stakes    revenue  betcount  \n",
       "0          N   Derivative Markets   9.282234   9.282234         1  \n",
       "1          N             Outright   8.715135   8.715135         1  \n",
       "2          N           Match Odds   9.395684   9.395684         2  \n",
       "3          Y  Commercial Specials  18.583440  18.583440         1  \n",
       "4          N   Over/Under Markets  16.669625   8.334812         2  "
      ]
     },
     "execution_count": 16,
     "metadata": {},
     "output_type": "execute_result"
    }
   ],
   "source": [
    "bets_df.head()"
   ]
  },
  {
   "cell_type": "code",
   "execution_count": 29,
   "metadata": {},
   "outputs": [
    {
     "name": "stdout",
     "output_type": "stream",
     "text": [
      "\n",
      "Bet dtypes:\n",
      "month               object\n",
      "account_id           int64\n",
      "sport_name          object\n",
      "in_play_yn          object\n",
      "freebet_used_yn     object\n",
      "bet_type            object\n",
      "max_bet_yn          object\n",
      "market_group        object\n",
      "stakes             float64\n",
      "revenue            float64\n",
      "betcount             int64\n",
      "dtype: object\n"
     ]
    }
   ],
   "source": [
    "print(\"\\nBet dtypes:\")\n",
    "print(bets_df.dtypes)"
   ]
  },
  {
   "cell_type": "code",
   "execution_count": 30,
   "metadata": {},
   "outputs": [
    {
     "name": "stdout",
     "output_type": "stream",
     "text": [
      "\n",
      "Bets missing values:\n",
      "month              0\n",
      "account_id         0\n",
      "sport_name         0\n",
      "in_play_yn         0\n",
      "freebet_used_yn    0\n",
      "bet_type           0\n",
      "max_bet_yn         0\n",
      "market_group       0\n",
      "stakes             0\n",
      "revenue            0\n",
      "betcount           0\n",
      "dtype: int64\n"
     ]
    }
   ],
   "source": [
    "print(\"\\nBets missing values:\")\n",
    "print(bets_df.isnull().sum())"
   ]
  },
  {
   "cell_type": "code",
   "execution_count": 36,
   "metadata": {},
   "outputs": [
    {
     "name": "stdout",
     "output_type": "stream",
     "text": [
      "\n",
      "Bets duplicate values:\n"
     ]
    },
    {
     "data": {
      "text/plain": [
       "0"
      ]
     },
     "execution_count": 36,
     "metadata": {},
     "output_type": "execute_result"
    }
   ],
   "source": [
    "print(\"\\nBets duplicate values:\")\n",
    "bets_df.duplicated().sum()"
   ]
  },
  {
   "cell_type": "code",
   "execution_count": 31,
   "metadata": {},
   "outputs": [
    {
     "name": "stdout",
     "output_type": "stream",
     "text": [
      "\n",
      "Betting data summary:\n",
      "          month     account_id sport_name in_play_yn freebet_used_yn bet_type  \\\n",
      "count    765299  765299.000000     765299     765299          765299   765299   \n",
      "unique       12            NaN         11          2               2        2   \n",
      "top     2018-06            NaN     Soccer          N               N   Single   \n",
      "freq      81714            NaN     433908     594515          662255   501362   \n",
      "mean        NaN   19704.266411        NaN        NaN             NaN      NaN   \n",
      "std         NaN   11417.043437        NaN        NaN             NaN      NaN   \n",
      "min         NaN       1.000000        NaN        NaN             NaN      NaN   \n",
      "25%         NaN   10125.000000        NaN        NaN             NaN      NaN   \n",
      "50%         NaN   19655.000000        NaN        NaN             NaN      NaN   \n",
      "75%         NaN   29352.000000        NaN        NaN             NaN      NaN   \n",
      "max         NaN   40000.000000        NaN        NaN             NaN      NaN   \n",
      "\n",
      "       max_bet_yn  market_group         stakes        revenue       betcount  \n",
      "count      765299        765299  765299.000000  765299.000000  765299.000000  \n",
      "unique          2            49            NaN            NaN            NaN  \n",
      "top             N  Win/Each Way            NaN            NaN            NaN  \n",
      "freq       721937        178868            NaN            NaN            NaN  \n",
      "mean          NaN           NaN      86.055080       2.674045       7.651113  \n",
      "std           NaN           NaN     805.030068     266.417649      38.678868  \n",
      "min           NaN           NaN       0.000388  -70502.121556       1.000000  \n",
      "25%           NaN           NaN       3.583763       0.189984       1.000000  \n",
      "50%           NaN           NaN      10.155472       4.198796       2.000000  \n",
      "75%           NaN           NaN      32.435520      12.993709       4.000000  \n",
      "max           NaN           NaN  212217.462583   38737.498441    6912.000000  \n"
     ]
    }
   ],
   "source": [
    "print(\"\\nBetting data summary:\")\n",
    "print(bets_df.describe(include='all'))"
   ]
  },
  {
   "cell_type": "markdown",
   "metadata": {},
   "source": [
    "### Initial notes and insights on betting data \n",
    "\n",
    "1. Again, no missing or duplicate values. \n",
    "2. With the monthly data, could track betting trends across the calendar year (changes in sport popularity etc). \n",
    "3. 11 sport options, with soccer the most popular. Could explore which sports drive most revenue, which are riskiest. \n",
    "4. The yes/no values in in_play_yn, freebet_used_yn etc could explore whether in play, free bets etc are most profitable. Combining with the customer data, could explore what the 'sharp' users are utilising. \n",
    "5. The 49 different values in market_group could provide insight into which markets are profitable/ unprofitable (and this could tie back in to sport).\n",
    "6. Stakes and revenue: could explore what is the distribution of this. Perhaps are some high-value customers driving higher revenue? \n",
    "\n",
    "With the scale of this dataset, it might need aggregating by account_id in order to provide useful insights. "
   ]
  }
 ],
 "metadata": {
  "kernelspec": {
   "display_name": "dataprep",
   "language": "python",
   "name": "python3"
  },
  "language_info": {
   "codemirror_mode": {
    "name": "ipython",
    "version": 3
   },
   "file_extension": ".py",
   "mimetype": "text/x-python",
   "name": "python",
   "nbconvert_exporter": "python",
   "pygments_lexer": "ipython3",
   "version": "3.12.3"
  }
 },
 "nbformat": 4,
 "nbformat_minor": 2
}
