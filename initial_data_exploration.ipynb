{
 "cells": [
  {
   "cell_type": "markdown",
   "metadata": {},
   "source": [
    "# Sportsbetting data analysis "
   ]
  },
  {
   "cell_type": "code",
   "execution_count": 1,
   "metadata": {},
   "outputs": [],
   "source": [
    "import pandas as pd \n",
    "import matplotlib.pyplot as plt\n",
    "import numpy as np"
   ]
  },
  {
   "cell_type": "code",
   "execution_count": 2,
   "metadata": {},
   "outputs": [
    {
     "name": "stdout",
     "output_type": "stream",
     "text": [
      "['Data Dictionary', 'Customer Bet Data', 'Customer Data']\n"
     ]
    }
   ],
   "source": [
    "file_path = \"data_analyst_task.xlsx\"\n",
    "xls = pd.ExcelFile(file_path)\n",
    "print(xls.sheet_names)"
   ]
  },
  {
   "cell_type": "code",
   "execution_count": 3,
   "metadata": {},
   "outputs": [],
   "source": [
    "# Load individual sheets to dataframes \n",
    "data_dict = pd.read_excel(xls, sheet_name='Data Dictionary')\n",
    "bets_df = pd.read_excel(xls, sheet_name='Customer Bet Data')\n",
    "customers_df = pd.read_excel(xls, sheet_name='Customer Data')"
   ]
  },
  {
   "cell_type": "code",
   "execution_count": 4,
   "metadata": {},
   "outputs": [
    {
     "name": "stdout",
     "output_type": "stream",
     "text": [
      "\n",
      "=== SHAPE ===\n",
      "Data Dictionary shape: (20, 2)\n",
      "Customer Bet Data shape: (765299, 11)\n",
      "Customer Data shape: (40000, 5)\n"
     ]
    }
   ],
   "source": [
    "# Printing shape to get overview/ confirm correct loading\n",
    "print(\"\\n=== SHAPE ===\")\n",
    "print(f\"Data Dictionary shape: {data_dict.shape}\")\n",
    "print(f\"Customer Bet Data shape: {bets_df.shape}\")\n",
    "print(f\"Customer Data shape: {customers_df.shape}\")"
   ]
  },
  {
   "cell_type": "markdown",
   "metadata": {},
   "source": [
    "## Reading in additional information on datasets "
   ]
  },
  {
   "cell_type": "code",
   "execution_count": 5,
   "metadata": {},
   "outputs": [
    {
     "data": {
      "text/html": [
       "<div>\n",
       "<style scoped>\n",
       "    .dataframe tbody tr th:only-of-type {\n",
       "        vertical-align: middle;\n",
       "    }\n",
       "\n",
       "    .dataframe tbody tr th {\n",
       "        vertical-align: top;\n",
       "    }\n",
       "\n",
       "    .dataframe thead th {\n",
       "        text-align: right;\n",
       "    }\n",
       "</style>\n",
       "<table border=\"1\" class=\"dataframe\">\n",
       "  <thead>\n",
       "    <tr style=\"text-align: right;\">\n",
       "      <th></th>\n",
       "      <th>Column Name</th>\n",
       "      <th>Description</th>\n",
       "    </tr>\n",
       "  </thead>\n",
       "  <tbody>\n",
       "    <tr>\n",
       "      <th>0</th>\n",
       "      <td>month</td>\n",
       "      <td>The month that a bet was settled, format YYYY-MM</td>\n",
       "    </tr>\n",
       "    <tr>\n",
       "      <th>1</th>\n",
       "      <td>account_id</td>\n",
       "      <td>The unique identifier for an account</td>\n",
       "    </tr>\n",
       "    <tr>\n",
       "      <th>2</th>\n",
       "      <td>sport_name</td>\n",
       "      <td>The name of the sport a bet was placed on</td>\n",
       "    </tr>\n",
       "    <tr>\n",
       "      <th>3</th>\n",
       "      <td>in_play_yn</td>\n",
       "      <td>Y/N flag indicating whether a bet was placed on an event that was in-play at the time of placement</td>\n",
       "    </tr>\n",
       "    <tr>\n",
       "      <th>4</th>\n",
       "      <td>freebet_used_yn</td>\n",
       "      <td>Y/N flag indicating whether at least part of the amount placed on the bet was from a free bet</td>\n",
       "    </tr>\n",
       "    <tr>\n",
       "      <th>5</th>\n",
       "      <td>bet_type</td>\n",
       "      <td>The type of bet placed. Single - only one selection included in the bet, Multiple - more than one selection included in the bet</td>\n",
       "    </tr>\n",
       "    <tr>\n",
       "      <th>6</th>\n",
       "      <td>max_bet_yn</td>\n",
       "      <td>Y/N flag indicating whether the amount placed on the bet was &gt;80% of the maximum amount allowed. The maximum value can differ by customer</td>\n",
       "    </tr>\n",
       "    <tr>\n",
       "      <th>7</th>\n",
       "      <td>market_group</td>\n",
       "      <td>The market type a bet was placed on, this differs by sport</td>\n",
       "    </tr>\n",
       "    <tr>\n",
       "      <th>8</th>\n",
       "      <td>stakes</td>\n",
       "      <td>Total monetary amount placed (in GBP)</td>\n",
       "    </tr>\n",
       "    <tr>\n",
       "      <th>9</th>\n",
       "      <td>revenue</td>\n",
       "      <td>Total revenue earned by the business (in GBP)</td>\n",
       "    </tr>\n",
       "    <tr>\n",
       "      <th>10</th>\n",
       "      <td>betcount</td>\n",
       "      <td>Number of unique bets placed</td>\n",
       "    </tr>\n",
       "    <tr>\n",
       "      <th>11</th>\n",
       "      <td>NaN</td>\n",
       "      <td>NaN</td>\n",
       "    </tr>\n",
       "    <tr>\n",
       "      <th>12</th>\n",
       "      <td>Account-Specific Datapoints</td>\n",
       "      <td>NaN</td>\n",
       "    </tr>\n",
       "    <tr>\n",
       "      <th>13</th>\n",
       "      <td>NaN</td>\n",
       "      <td>NaN</td>\n",
       "    </tr>\n",
       "    <tr>\n",
       "      <th>14</th>\n",
       "      <td>Column Name</td>\n",
       "      <td>Description</td>\n",
       "    </tr>\n",
       "    <tr>\n",
       "      <th>15</th>\n",
       "      <td>account_id</td>\n",
       "      <td>The unique identifier for an account</td>\n",
       "    </tr>\n",
       "    <tr>\n",
       "      <th>16</th>\n",
       "      <td>marketing_channel</td>\n",
       "      <td>The marketing channel of the registration</td>\n",
       "    </tr>\n",
       "    <tr>\n",
       "      <th>17</th>\n",
       "      <td>account_open_datetime</td>\n",
       "      <td>The timestamp for when the account was opened</td>\n",
       "    </tr>\n",
       "    <tr>\n",
       "      <th>18</th>\n",
       "      <td>residence_country</td>\n",
       "      <td>The country that the account holder resides in</td>\n",
       "    </tr>\n",
       "    <tr>\n",
       "      <th>19</th>\n",
       "      <td>sharp_yn</td>\n",
       "      <td>Y/N flag indicating whether the customer has been identified as a sharp/shrewd bettor</td>\n",
       "    </tr>\n",
       "  </tbody>\n",
       "</table>\n",
       "</div>"
      ],
      "text/plain": [
       "                    Column Name  \\\n",
       "0                         month   \n",
       "1                    account_id   \n",
       "2                    sport_name   \n",
       "3                    in_play_yn   \n",
       "4               freebet_used_yn   \n",
       "5                      bet_type   \n",
       "6                    max_bet_yn   \n",
       "7                  market_group   \n",
       "8                        stakes   \n",
       "9                       revenue   \n",
       "10                     betcount   \n",
       "11                          NaN   \n",
       "12  Account-Specific Datapoints   \n",
       "13                          NaN   \n",
       "14                  Column Name   \n",
       "15                   account_id   \n",
       "16            marketing_channel   \n",
       "17        account_open_datetime   \n",
       "18            residence_country   \n",
       "19                     sharp_yn   \n",
       "\n",
       "                                                                                                                                  Description  \n",
       "0                                                                                            The month that a bet was settled, format YYYY-MM  \n",
       "1                                                                                                        The unique identifier for an account  \n",
       "2                                                                                                   The name of the sport a bet was placed on  \n",
       "3                                         Y/N flag indicating whether a bet was placed on an event that was in-play at the time of placement   \n",
       "4                                               Y/N flag indicating whether at least part of the amount placed on the bet was from a free bet  \n",
       "5             The type of bet placed. Single - only one selection included in the bet, Multiple - more than one selection included in the bet  \n",
       "6   Y/N flag indicating whether the amount placed on the bet was >80% of the maximum amount allowed. The maximum value can differ by customer  \n",
       "7                                                                                  The market type a bet was placed on, this differs by sport  \n",
       "8                                                                                                       Total monetary amount placed (in GBP)  \n",
       "9                                                                                               Total revenue earned by the business (in GBP)  \n",
       "10                                                                                                               Number of unique bets placed  \n",
       "11                                                                                                                                        NaN  \n",
       "12                                                                                                                                        NaN  \n",
       "13                                                                                                                                        NaN  \n",
       "14                                                                                                                                Description  \n",
       "15                                                                                                       The unique identifier for an account  \n",
       "16                                                                                                  The marketing channel of the registration  \n",
       "17                                                                                              The timestamp for when the account was opened  \n",
       "18                                                                                             The country that the account holder resides in  \n",
       "19                                                      Y/N flag indicating whether the customer has been identified as a sharp/shrewd bettor  "
      ]
     },
     "metadata": {},
     "output_type": "display_data"
    }
   ],
   "source": [
    "pd.set_option('display.max_colwidth', None)\n",
    "display(data_dict.head(20))\n",
    "pd.reset_option('display.max_colwidth') # Returning to normal for later reading in"
   ]
  },
  {
   "cell_type": "markdown",
   "metadata": {},
   "source": [
    "## Checking customer data integrity "
   ]
  },
  {
   "cell_type": "markdown",
   "metadata": {},
   "source": [
    "Checking data types, for duplicates/missing data and an overall summary."
   ]
  },
  {
   "cell_type": "code",
   "execution_count": 6,
   "metadata": {},
   "outputs": [
    {
     "data": {
      "text/html": [
       "<div>\n",
       "<style scoped>\n",
       "    .dataframe tbody tr th:only-of-type {\n",
       "        vertical-align: middle;\n",
       "    }\n",
       "\n",
       "    .dataframe tbody tr th {\n",
       "        vertical-align: top;\n",
       "    }\n",
       "\n",
       "    .dataframe thead th {\n",
       "        text-align: right;\n",
       "    }\n",
       "</style>\n",
       "<table border=\"1\" class=\"dataframe\">\n",
       "  <thead>\n",
       "    <tr style=\"text-align: right;\">\n",
       "      <th></th>\n",
       "      <th>account_id</th>\n",
       "      <th>marketing_channel</th>\n",
       "      <th>account_open_datetime</th>\n",
       "      <th>residence_country</th>\n",
       "      <th>sharp_yn</th>\n",
       "    </tr>\n",
       "  </thead>\n",
       "  <tbody>\n",
       "    <tr>\n",
       "      <th>39995</th>\n",
       "      <td>39996</td>\n",
       "      <td>Direct</td>\n",
       "      <td>2016-04-09 11:58:22</td>\n",
       "      <td>United Kingdom</td>\n",
       "      <td>N</td>\n",
       "    </tr>\n",
       "    <tr>\n",
       "      <th>39996</th>\n",
       "      <td>39997</td>\n",
       "      <td>Direct</td>\n",
       "      <td>2018-10-15 16:47:43</td>\n",
       "      <td>United Kingdom</td>\n",
       "      <td>Y</td>\n",
       "    </tr>\n",
       "    <tr>\n",
       "      <th>39997</th>\n",
       "      <td>39998</td>\n",
       "      <td>Affiliates</td>\n",
       "      <td>2018-06-28 17:26:36</td>\n",
       "      <td>United Kingdom</td>\n",
       "      <td>N</td>\n",
       "    </tr>\n",
       "    <tr>\n",
       "      <th>39998</th>\n",
       "      <td>39999</td>\n",
       "      <td>PPC Brand</td>\n",
       "      <td>2018-06-23 09:29:33</td>\n",
       "      <td>United Kingdom</td>\n",
       "      <td>N</td>\n",
       "    </tr>\n",
       "    <tr>\n",
       "      <th>39999</th>\n",
       "      <td>40000</td>\n",
       "      <td>Affiliates</td>\n",
       "      <td>2018-04-12 12:37:41</td>\n",
       "      <td>United Kingdom</td>\n",
       "      <td>N</td>\n",
       "    </tr>\n",
       "  </tbody>\n",
       "</table>\n",
       "</div>"
      ],
      "text/plain": [
       "       account_id marketing_channel account_open_datetime residence_country  \\\n",
       "39995       39996            Direct   2016-04-09 11:58:22    United Kingdom   \n",
       "39996       39997            Direct   2018-10-15 16:47:43    United Kingdom   \n",
       "39997       39998        Affiliates   2018-06-28 17:26:36    United Kingdom   \n",
       "39998       39999         PPC Brand   2018-06-23 09:29:33    United Kingdom   \n",
       "39999       40000        Affiliates   2018-04-12 12:37:41    United Kingdom   \n",
       "\n",
       "      sharp_yn  \n",
       "39995        N  \n",
       "39996        Y  \n",
       "39997        N  \n",
       "39998        N  \n",
       "39999        N  "
      ]
     },
     "execution_count": 6,
     "metadata": {},
     "output_type": "execute_result"
    }
   ],
   "source": [
    "customers_df.tail()"
   ]
  },
  {
   "cell_type": "code",
   "execution_count": 7,
   "metadata": {},
   "outputs": [
    {
     "name": "stdout",
     "output_type": "stream",
     "text": [
      "\n",
      "Customer Data dtypes:\n",
      "account_id                        int64\n",
      "marketing_channel                object\n",
      "account_open_datetime    datetime64[ns]\n",
      "residence_country                object\n",
      "sharp_yn                         object\n",
      "dtype: object\n"
     ]
    }
   ],
   "source": [
    "print(\"\\nCustomer Data dtypes:\")\n",
    "print(customers_df.dtypes)"
   ]
  },
  {
   "cell_type": "code",
   "execution_count": 8,
   "metadata": {},
   "outputs": [
    {
     "name": "stdout",
     "output_type": "stream",
     "text": [
      "\n",
      "Updated Customer Data dtypes:\n",
      "account_id                        int32\n",
      "marketing_channel              category\n",
      "account_open_datetime    datetime64[ns]\n",
      "residence_country              category\n",
      "sharp_yn                       category\n",
      "dtype: object\n"
     ]
    }
   ],
   "source": [
    "# Converting column types to optimise \n",
    "customers_df['sharp_yn'] = customers_df['sharp_yn'].astype('category')\n",
    "customers_df['residence_country'] = customers_df['residence_country'].astype('category')\n",
    "customers_df['marketing_channel'] = customers_df['marketing_channel'].astype('category')\n",
    "customers_df['account_id'] = customers_df['account_id'].astype('int32')\n",
    "\n",
    "print(\"\\nUpdated Customer Data dtypes:\")\n",
    "print(customers_df.dtypes)"
   ]
  },
  {
   "cell_type": "code",
   "execution_count": 9,
   "metadata": {},
   "outputs": [
    {
     "name": "stdout",
     "output_type": "stream",
     "text": [
      "\n",
      "Customer Data missing values:\n",
      "account_id               0\n",
      "marketing_channel        0\n",
      "account_open_datetime    0\n",
      "residence_country        0\n",
      "sharp_yn                 0\n",
      "dtype: int64\n"
     ]
    }
   ],
   "source": [
    "print(\"\\nCustomer Data missing values:\")\n",
    "print(customers_df.isnull().sum())"
   ]
  },
  {
   "cell_type": "code",
   "execution_count": 10,
   "metadata": {},
   "outputs": [
    {
     "name": "stdout",
     "output_type": "stream",
     "text": [
      "\n",
      "Customer Data duplicate values:\n"
     ]
    },
    {
     "data": {
      "text/plain": [
       "0"
      ]
     },
     "execution_count": 10,
     "metadata": {},
     "output_type": "execute_result"
    }
   ],
   "source": [
    "print(\"\\nCustomer Data duplicate values:\")\n",
    "customers_df.duplicated().sum()"
   ]
  },
  {
   "cell_type": "code",
   "execution_count": 11,
   "metadata": {},
   "outputs": [
    {
     "name": "stdout",
     "output_type": "stream",
     "text": [
      "sport_name\n",
      "Soccer               433908\n",
      "Horse Racing         211816\n",
      "Golf                  30074\n",
      "Tennis                21053\n",
      "Rugby Union           17243\n",
      "Darts                 11501\n",
      "Basketball            11466\n",
      "American Football     10473\n",
      "Greyhound Racing      10405\n",
      "Cricket                6815\n",
      "(null)                  545\n",
      "Name: count, dtype: int64\n"
     ]
    }
   ],
   "source": [
    "sport_counts = bets_df['sport_name'].value_counts()\n",
    "print(sport_counts)"
   ]
  },
  {
   "cell_type": "code",
   "execution_count": 12,
   "metadata": {},
   "outputs": [
    {
     "name": "stdout",
     "output_type": "stream",
     "text": [
      "sport_name\n",
      "Soccer               433908\n",
      "Horse Racing         211816\n",
      "Golf                  30074\n",
      "Tennis                21053\n",
      "Rugby Union           17243\n",
      "Darts                 11501\n",
      "Basketball            11466\n",
      "American Football     10473\n",
      "Greyhound Racing      10405\n",
      "Cricket                6815\n",
      "Name: count, dtype: int64\n"
     ]
    }
   ],
   "source": [
    "# Dropping the null values and any NaNs\n",
    "\n",
    "bets_df = bets_df[bets_df['sport_name'] != '(null)']\n",
    "bets_df = bets_df.dropna(subset=['sport_name'])\n",
    "revised_sport_counts = bets_df['sport_name'].value_counts()\n",
    "print(revised_sport_counts)"
   ]
  },
  {
   "cell_type": "code",
   "execution_count": 13,
   "metadata": {},
   "outputs": [
    {
     "name": "stdout",
     "output_type": "stream",
     "text": [
      "\n",
      "Customer Data summary:\n",
      "         account_id marketing_channel          account_open_datetime  \\\n",
      "count   40000.00000             40000                          40000   \n",
      "unique          NaN                11                            NaN   \n",
      "top             NaN            Direct                            NaN   \n",
      "freq            NaN             13662                            NaN   \n",
      "mean    20000.50000               NaN     2015-10-15 20:01:37.732000   \n",
      "min         1.00000               NaN            1997-04-30 23:00:00   \n",
      "25%     10000.75000               NaN  2014-04-05 14:40:55.750000128   \n",
      "50%     20000.50000               NaN     2017-03-14 10:52:49.500000   \n",
      "75%     30000.25000               NaN            2018-04-14 12:54:11   \n",
      "max     40000.00000               NaN            2018-12-31 15:05:48   \n",
      "std     11547.14972               NaN                            NaN   \n",
      "\n",
      "       residence_country sharp_yn  \n",
      "count              40000    40000  \n",
      "unique                72        2  \n",
      "top       United Kingdom        N  \n",
      "freq               32601    30000  \n",
      "mean                 NaN      NaN  \n",
      "min                  NaN      NaN  \n",
      "25%                  NaN      NaN  \n",
      "50%                  NaN      NaN  \n",
      "75%                  NaN      NaN  \n",
      "max                  NaN      NaN  \n",
      "std                  NaN      NaN  \n"
     ]
    }
   ],
   "source": [
    "print(\"\\nCustomer Data summary:\")\n",
    "print(customers_df.describe(include='all'))"
   ]
  },
  {
   "cell_type": "markdown",
   "metadata": {},
   "source": [
    "### Initial notes and insights on customer data \n",
    "\n",
    "1. No duplicates or missing values found. \n",
    "2. Each row represents a unique customer account, with 40,000 altogether.\n",
    "3. A wide range of opening dates are visible, beginning in 1997. Therefore, I have a mix of old and new customers, which could offer insight on betting tendencies, profitability etc. This might need segmenting by tenure, as most have joined in recent years.\n",
    "4. The vast majority of customers are from the UK. I could compare UK vs non-UK customer activities (betting behaviour etc) but may have to filter out countries with exceedingly small amounts of users. \n",
    "5. On marketing channel, there are 11 options with direct being most common. Channel vs profitability etc could be interesting to explore. Could segment these by channel.\n",
    "6. A quarter of users are marked as sharp. Their betting trends could be explored, such as what sports they bet on, whether their revenue per bet is lower etc."
   ]
  },
  {
   "cell_type": "markdown",
   "metadata": {},
   "source": [
    "## Additional processing on customer data "
   ]
  },
  {
   "cell_type": "markdown",
   "metadata": {},
   "source": [
    "### Country trends"
   ]
  },
  {
   "cell_type": "code",
   "execution_count": 14,
   "metadata": {},
   "outputs": [
    {
     "name": "stdout",
     "output_type": "stream",
     "text": [
      "residence_country\n",
      "United Kingdom                                   81.5025\n",
      "Ireland                                          14.9850\n",
      "Russian Federation                                0.7425\n",
      "Ukraine                                           0.4175\n",
      "Sweden                                            0.2500\n",
      "                                                  ...   \n",
      "Qatar                                             0.0025\n",
      "Netherlands Antilles                              0.0025\n",
      "Macao, Special Administrative Region of China     0.0025\n",
      "Andorra                                           0.0025\n",
      "Oman                                              0.0025\n",
      "Name: proportion, Length: 72, dtype: float64\n"
     ]
    }
   ],
   "source": [
    "# Checking the percentage count of users by country \n",
    "country_counts = customers_df['residence_country'].value_counts(normalize=True) * 100\n",
    "print(country_counts)"
   ]
  },
  {
   "cell_type": "code",
   "execution_count": 15,
   "metadata": {},
   "outputs": [
    {
     "name": "stdout",
     "output_type": "stream",
     "text": [
      "country_group\n",
      "United Kingdom    81.5025\n",
      "Ireland           14.9850\n",
      "Other              3.5125\n",
      "Name: proportion, dtype: float64\n"
     ]
    }
   ],
   "source": [
    "# Keeping the specific country if it is UK or Ireland\n",
    "# Otherwise, collating them as 'Other' due to the significantly low values in the dataset\n",
    "\n",
    "customers_df['country_group'] = customers_df['residence_country'].apply(lambda x: x if x in ['United Kingdom', 'Ireland'] else 'Other')\n",
    "\n",
    "country_group_counts = customers_df['country_group'].value_counts(normalize=True) * 100\n",
    "print(country_group_counts)"
   ]
  },
  {
   "cell_type": "markdown",
   "metadata": {},
   "source": [
    "The market is heaviy UK focused, with Ireland representing a significant minority. The 'other' countries likely have lower overall impact. \n",
    "\n",
    "Most analysis should focus on the UK, since it dominates the dataset. But Ireland, as a secondary market, deserves attention as there may be additional trends at play. Other may be excluded as the small size may make it difficult to spot trends. Additionally, as it is comprised of 70 countries, there are probably huge regional variations (among few players) at play."
   ]
  },
  {
   "cell_type": "code",
   "execution_count": 16,
   "metadata": {},
   "outputs": [
    {
     "name": "stdout",
     "output_type": "stream",
     "text": [
      "country_group\n",
      "Other             93.736655\n",
      "United Kingdom    25.048311\n",
      "Ireland            8.625292\n",
      "Name: sharp_yn, dtype: float64\n"
     ]
    }
   ],
   "source": [
    "# Checking what percentage of users from each country group are marked as sharp \n",
    "sharp_percent_by_country = customers_df.groupby(\"country_group\")[\"sharp_yn\"].apply(\n",
    "    lambda x: (x == \"Y\").mean() * 100\n",
    ").sort_values(ascending=False)\n",
    "\n",
    "print(sharp_percent_by_country)"
   ]
  },
  {
   "cell_type": "markdown",
   "metadata": {},
   "source": [
    "The users from non-Ireland/UK countries are overwhelmingly sharp. This could be explored further: \n",
    "- may indicate targeted/fradulent accounts \n",
    "- sharp users may be utilising this platform from other jurisdictions \n",
    "- possible use of VPNs or similar \n",
    "\n",
    "Ireland and the UK make up the majority of users but show much lower sharp rates. Therefore, these may be the core recreational base. "
   ]
  },
  {
   "cell_type": "markdown",
   "metadata": {},
   "source": [
    "### Account opening years "
   ]
  },
  {
   "cell_type": "code",
   "execution_count": 17,
   "metadata": {},
   "outputs": [
    {
     "name": "stdout",
     "output_type": "stream",
     "text": [
      "  account_open_datetime  account_open_year  account_open_month\n",
      "0   2015-03-19 18:41:41               2015                   3\n",
      "1   2018-04-14 11:13:03               2018                   4\n",
      "2   2015-04-11 09:35:37               2015                   4\n",
      "3   2016-08-21 15:01:47               2016                   8\n",
      "4   2006-10-05 19:25:48               2006                  10\n"
     ]
    }
   ],
   "source": [
    "# Simplifying the exact timestamp value to respective columns for date and month, to allow for trend analysis without noise\n",
    "\n",
    "customers_df['account_open_year'] = customers_df['account_open_datetime'].dt.year\n",
    "customers_df['account_open_month'] = customers_df['account_open_datetime'].dt.month\n",
    "\n",
    "print(customers_df[['account_open_datetime', 'account_open_year', 'account_open_month']].head())"
   ]
  },
  {
   "cell_type": "code",
   "execution_count": 18,
   "metadata": {},
   "outputs": [
    {
     "name": "stdout",
     "output_type": "stream",
     "text": [
      "account_open_year\n",
      "2018    38.0725\n",
      "2017    14.9425\n",
      "2016    11.3050\n",
      "2015     7.0075\n",
      "2014     6.5025\n",
      "2012     4.2550\n",
      "2013     4.2275\n",
      "2011     3.4600\n",
      "2010     2.7675\n",
      "2009     1.6975\n",
      "2008     1.4000\n",
      "2007     1.0125\n",
      "2006     1.0075\n",
      "2005     0.5975\n",
      "2002     0.4725\n",
      "2004     0.4400\n",
      "2003     0.3825\n",
      "2001     0.2350\n",
      "2000     0.1250\n",
      "1997     0.0300\n",
      "1998     0.0300\n",
      "1999     0.0300\n",
      "Name: proportion, dtype: float64\n"
     ]
    }
   ],
   "source": [
    "# Exploring the spread of account opening dates (by year)\n",
    "\n",
    "year_percentages = customers_df['account_open_year'].value_counts(normalize=True) * 100\n",
    "print(year_percentages)"
   ]
  },
  {
   "cell_type": "markdown",
   "metadata": {},
   "source": [
    "A large chunk of the accounts opened in 2018 (the year of the bets being placed). Therefore, there is a strong influx of new customers. \n",
    "\n",
    "Account openings drop steadily as you go back in years, indicating that older accounts are less active over time. \n",
    "\n",
    "The customer tenure is very skewed to new accounts. I could segment customers by tenure (2018 accounts vs earlier) to see if behaviour differs by how long they have been active. \n",
    "\n",
    "I could track growth trends; eg how did recent accounts perform as compared to existing customers. "
   ]
  },
  {
   "cell_type": "code",
   "execution_count": 19,
   "metadata": {},
   "outputs": [
    {
     "name": "stdout",
     "output_type": "stream",
     "text": [
      "account_open_year\n",
      "1997    25.000000\n",
      "1998    25.000000\n",
      "1999    16.666667\n",
      "2000    28.000000\n",
      "2001    43.617021\n",
      "2002    53.968254\n",
      "2003    32.026144\n",
      "2004    36.363636\n",
      "2005    28.870293\n",
      "2006    26.054591\n",
      "2007    24.197531\n",
      "2008    25.714286\n",
      "2009    24.889543\n",
      "2010    21.951220\n",
      "2011    20.736994\n",
      "2012    19.623972\n",
      "2013    18.687167\n",
      "2014    17.800846\n",
      "2015    22.297538\n",
      "2016    25.939850\n",
      "2017    25.079471\n",
      "2018    27.559262\n",
      "Name: sharp_percent, dtype: float64\n"
     ]
    }
   ],
   "source": [
    "# Exploring the percentage of sharp accounts by opening year\n",
    "counts = customers_df.groupby(['account_open_year', 'sharp_yn'], observed=True).size().unstack(fill_value=0)\n",
    "counts['sharp_percent'] = counts['Y'] / (counts['Y'] + counts['N']) * 100\n",
    "\n",
    "print(counts['sharp_percent'])"
   ]
  },
  {
   "cell_type": "markdown",
   "metadata": {},
   "source": [
    "Sharpness isn't concentrated in one age group of accounts, there are peaks and troughs.\n",
    "\n",
    "Overall, the older accounts have a higher percentage of sharp bettors. It may show that long-term customers are sharper (perhaps through learning betting strategies over time).\n",
    "\n",
    "Recent accounts still show a relatively high percentage of sharps, so they may be also quite savvy (or sharp bettors are joining actively).\n",
    "\n",
    "There is a dip in sharpness from 2010 - 2015, which might indicate a different user base signing up at that time. "
   ]
  },
  {
   "cell_type": "code",
   "execution_count": 20,
   "metadata": {},
   "outputs": [
    {
     "name": "stdout",
     "output_type": "stream",
     "text": [
      "country_group      Ireland   Other  United Kingdom\n",
      "account_open_year                                 \n",
      "1997                 25.00     NaN             NaN\n",
      "1998                 25.00     NaN             NaN\n",
      "1999                 16.67     NaN             NaN\n",
      "2000                 12.50     NaN           90.00\n",
      "2001                  7.14     NaN           73.08\n",
      "2002                 17.39     NaN           65.73\n",
      "2003                  5.77     NaN           45.54\n",
      "2004                 10.42    0.00           46.46\n",
      "2005                  9.59     NaN           37.35\n",
      "2006                  8.90  100.00           35.55\n",
      "2007                  9.27     NaN           33.07\n",
      "2008                 13.30  100.00           31.44\n",
      "2009                  9.78  100.00           29.36\n",
      "2010                  7.35   60.00           25.90\n",
      "2011                  6.97  100.00           23.99\n",
      "2012                  6.53   91.67           22.42\n",
      "2013                 10.05   92.31           20.46\n",
      "2014                  7.35   81.82           19.74\n",
      "2015                  9.90   68.97           24.52\n",
      "2016                  9.28   90.80           27.14\n",
      "2017                  8.76   93.10           26.10\n",
      "2018                  7.26   95.10           23.78\n"
     ]
    }
   ],
   "source": [
    "# Breaking down yearly sharp percentages by country group\n",
    "\n",
    "customers_df['sharp_flag'] = customers_df['sharp_yn'].map({'Y': 1, 'N': 0}).astype(int)\n",
    "sharp_by_country_year = customers_df.groupby(['country_group', 'account_open_year'])['sharp_flag'].mean() * 100\n",
    "\n",
    "sharp_pivot = sharp_by_country_year.reset_index().pivot(index='account_open_year', columns='country_group', values='sharp_flag')\n",
    "sharp_pivot = sharp_pivot.round(2)\n",
    "\n",
    "print(sharp_pivot)"
   ]
  },
  {
   "cell_type": "markdown",
   "metadata": {},
   "source": [
    "There's a clear downward trend in UK sharp percentage - either new UK accounts are less likely to be flagged or sharp bettors are utilising old accounts. \n",
    "\n",
    "Ireland has the lowest sharp percentages overall (so Irish sharp bettors are either less prevalent or not consistently flagged). In Ireland, like the UK, the average rate of sharpness is trending downwards on younger accounts. \n",
    "\n",
    "Consistent high rate of sharpness in the 'Other' group. "
   ]
  },
  {
   "cell_type": "markdown",
   "metadata": {},
   "source": [
    "### Marketing channel information"
   ]
  },
  {
   "cell_type": "code",
   "execution_count": 21,
   "metadata": {},
   "outputs": [
    {
     "name": "stdout",
     "output_type": "stream",
     "text": [
      "marketing_channel\n",
      "Direct                  34.1550\n",
      "Affiliates              18.4825\n",
      "SEO                     16.3900\n",
      "PPC Brand               15.5150\n",
      "PPC (inc Competitor)     8.0775\n",
      "Display                  2.9700\n",
      "Social                   2.4525\n",
      "Other                    1.5400\n",
      "PPC ASA                  0.2625\n",
      "RAE                      0.1450\n",
      "PPC UAC                  0.0100\n",
      "Name: proportion, dtype: float64\n"
     ]
    }
   ],
   "source": [
    "# Checking the percentage count of marketing channels\n",
    "channel_counts = customers_df['marketing_channel'].value_counts(normalize=True) * 100\n",
    "print(channel_counts)"
   ]
  },
  {
   "cell_type": "markdown",
   "metadata": {},
   "source": [
    "The largest share of customers are acquired directly (possibly indicating strong brand recognition?). Affiliates, SEO, paid search marketing and campaigns also seem profitable. \n",
    "\n",
    "From this, focus could be placed on the largest channels for retention/optimisation. Questions could be asked if smaller channels underperform (perhaps connecting here to revenue in the bets data)"
   ]
  },
  {
   "cell_type": "code",
   "execution_count": 22,
   "metadata": {},
   "outputs": [
    {
     "name": "stdout",
     "output_type": "stream",
     "text": [
      "sharp_yn                Sharp %\n",
      "marketing_channel              \n",
      "Affiliates            38.874611\n",
      "Direct                23.034695\n",
      "Display                9.511785\n",
      "Other                 22.727273\n",
      "PPC (inc Competitor)   8.882699\n",
      "PPC ASA               13.333333\n",
      "PPC Brand             21.028037\n",
      "PPC UAC               25.000000\n",
      "RAE                   36.206897\n",
      "SEO                   30.109823\n",
      "Social                12.640163\n"
     ]
    }
   ],
   "source": [
    "# Checking sharp users by marketing channel \n",
    "sharp_by_channel = customers_df.groupby('marketing_channel', observed=True)['sharp_yn'].value_counts(normalize=True).unstack().fillna(0)\n",
    "sharp_by_channel['Sharp %'] = sharp_by_channel['Y'] * 100\n",
    "print(sharp_by_channel[['Sharp %']])"
   ]
  },
  {
   "cell_type": "markdown",
   "metadata": {},
   "source": [
    "Affiliates, RAE and SEO seem to be attracting more sharp bettors. Risk management may consider marketing channel as a factor, since sharp bettors behave differently. "
   ]
  },
  {
   "cell_type": "code",
   "execution_count": 23,
   "metadata": {},
   "outputs": [
    {
     "name": "stdout",
     "output_type": "stream",
     "text": [
      "country_group           Ireland       Other  United Kingdom\n",
      "marketing_channel                                          \n",
      "Affiliates            22.983871   92.608696       37.657267\n",
      "Direct                 8.078751   95.017182       23.248470\n",
      "Display                5.442177  100.000000       10.549944\n",
      "Other                 12.698413         NaN       27.166276\n",
      "PPC (inc Competitor)   3.496503   90.909091        8.839779\n",
      "PPC ASA                0.000000  100.000000       12.621359\n",
      "PPC Brand              7.931034   94.117647       22.936642\n",
      "PPC UAC                     NaN         NaN       25.000000\n",
      "RAE                    0.000000  100.000000       29.545455\n",
      "SEO                    8.032787   92.647059       28.631052\n",
      "Social                12.987013  100.000000       11.731844\n"
     ]
    }
   ],
   "source": [
    "# Comparing the sharp percentage for each country group across the marketing channels\n",
    "sharp_numeric = customers_df['sharp_yn'].map({'Y': 1, 'N': 0}).astype(float)\n",
    "\n",
    "result = pd.crosstab(\n",
    "    index=customers_df['marketing_channel'].astype(str),\n",
    "    columns=customers_df['country_group'],\n",
    "    values=sharp_numeric,\n",
    "    aggfunc='mean'\n",
    ") * 100\n",
    "\n",
    "print(result)"
   ]
  },
  {
   "cell_type": "markdown",
   "metadata": {},
   "source": [
    "Again, the sharp concentration in 'Other' countries is standing out clearly. Across each marketing channel, sharp users are heavily overrepresented. Users from 'other' countries represent an acquisition risk - they're nearly all sharp, no matter the channel.\n",
    "\n",
    "Overall, Ireland tends to have lower sharp rates, possibly indicating a more recreational user base.\n",
    "\n",
    "UK is a mixed bag: some channels are attracting sharp behaviour and others are not.  \n",
    "\n",
    "Channel-level marketing may need scrutiny due to the range in sharp rates seen (Affiliate, direct and SEO). It's possible that different regions need different marketing strategies."
   ]
  },
  {
   "cell_type": "markdown",
   "metadata": {},
   "source": [
    "## Checking customer bet data integrity"
   ]
  },
  {
   "cell_type": "code",
   "execution_count": 24,
   "metadata": {},
   "outputs": [
    {
     "data": {
      "text/html": [
       "<div>\n",
       "<style scoped>\n",
       "    .dataframe tbody tr th:only-of-type {\n",
       "        vertical-align: middle;\n",
       "    }\n",
       "\n",
       "    .dataframe tbody tr th {\n",
       "        vertical-align: top;\n",
       "    }\n",
       "\n",
       "    .dataframe thead th {\n",
       "        text-align: right;\n",
       "    }\n",
       "</style>\n",
       "<table border=\"1\" class=\"dataframe\">\n",
       "  <thead>\n",
       "    <tr style=\"text-align: right;\">\n",
       "      <th></th>\n",
       "      <th>month</th>\n",
       "      <th>account_id</th>\n",
       "      <th>sport_name</th>\n",
       "      <th>in_play_yn</th>\n",
       "      <th>freebet_used_yn</th>\n",
       "      <th>bet_type</th>\n",
       "      <th>max_bet_yn</th>\n",
       "      <th>market_group</th>\n",
       "      <th>stakes</th>\n",
       "      <th>revenue</th>\n",
       "      <th>betcount</th>\n",
       "    </tr>\n",
       "  </thead>\n",
       "  <tbody>\n",
       "    <tr>\n",
       "      <th>0</th>\n",
       "      <td>2018-03</td>\n",
       "      <td>26928</td>\n",
       "      <td>Horse Racing</td>\n",
       "      <td>N</td>\n",
       "      <td>N</td>\n",
       "      <td>Single</td>\n",
       "      <td>N</td>\n",
       "      <td>Derivative Markets</td>\n",
       "      <td>9.282234</td>\n",
       "      <td>9.282234</td>\n",
       "      <td>1</td>\n",
       "    </tr>\n",
       "    <tr>\n",
       "      <th>1</th>\n",
       "      <td>2018-07</td>\n",
       "      <td>710</td>\n",
       "      <td>Golf</td>\n",
       "      <td>N</td>\n",
       "      <td>N</td>\n",
       "      <td>Single</td>\n",
       "      <td>N</td>\n",
       "      <td>Outright</td>\n",
       "      <td>8.715135</td>\n",
       "      <td>8.715135</td>\n",
       "      <td>1</td>\n",
       "    </tr>\n",
       "    <tr>\n",
       "      <th>2</th>\n",
       "      <td>2018-11</td>\n",
       "      <td>12592</td>\n",
       "      <td>Soccer</td>\n",
       "      <td>N</td>\n",
       "      <td>N</td>\n",
       "      <td>Multiple</td>\n",
       "      <td>N</td>\n",
       "      <td>Match Odds</td>\n",
       "      <td>9.395684</td>\n",
       "      <td>9.395684</td>\n",
       "      <td>2</td>\n",
       "    </tr>\n",
       "    <tr>\n",
       "      <th>3</th>\n",
       "      <td>2018-11</td>\n",
       "      <td>349</td>\n",
       "      <td>Soccer</td>\n",
       "      <td>N</td>\n",
       "      <td>N</td>\n",
       "      <td>Single</td>\n",
       "      <td>Y</td>\n",
       "      <td>Commercial Specials</td>\n",
       "      <td>18.583440</td>\n",
       "      <td>18.583440</td>\n",
       "      <td>1</td>\n",
       "    </tr>\n",
       "    <tr>\n",
       "      <th>4</th>\n",
       "      <td>2018-11</td>\n",
       "      <td>15999</td>\n",
       "      <td>Soccer</td>\n",
       "      <td>N</td>\n",
       "      <td>N</td>\n",
       "      <td>Single</td>\n",
       "      <td>N</td>\n",
       "      <td>Over/Under Markets</td>\n",
       "      <td>16.669625</td>\n",
       "      <td>8.334812</td>\n",
       "      <td>2</td>\n",
       "    </tr>\n",
       "  </tbody>\n",
       "</table>\n",
       "</div>"
      ],
      "text/plain": [
       "     month  account_id    sport_name in_play_yn freebet_used_yn  bet_type  \\\n",
       "0  2018-03       26928  Horse Racing          N               N    Single   \n",
       "1  2018-07         710          Golf          N               N    Single   \n",
       "2  2018-11       12592        Soccer          N               N  Multiple   \n",
       "3  2018-11         349        Soccer          N               N    Single   \n",
       "4  2018-11       15999        Soccer          N               N    Single   \n",
       "\n",
       "  max_bet_yn         market_group     stakes    revenue  betcount  \n",
       "0          N   Derivative Markets   9.282234   9.282234         1  \n",
       "1          N             Outright   8.715135   8.715135         1  \n",
       "2          N           Match Odds   9.395684   9.395684         2  \n",
       "3          Y  Commercial Specials  18.583440  18.583440         1  \n",
       "4          N   Over/Under Markets  16.669625   8.334812         2  "
      ]
     },
     "execution_count": 24,
     "metadata": {},
     "output_type": "execute_result"
    }
   ],
   "source": [
    "bets_df.head()"
   ]
  },
  {
   "cell_type": "code",
   "execution_count": 25,
   "metadata": {},
   "outputs": [
    {
     "name": "stdout",
     "output_type": "stream",
     "text": [
      "\n",
      "Bet dtypes:\n",
      "month               object\n",
      "account_id           int64\n",
      "sport_name          object\n",
      "in_play_yn          object\n",
      "freebet_used_yn     object\n",
      "bet_type            object\n",
      "max_bet_yn          object\n",
      "market_group        object\n",
      "stakes             float64\n",
      "revenue            float64\n",
      "betcount             int64\n",
      "dtype: object\n"
     ]
    }
   ],
   "source": [
    "print(\"\\nBet dtypes:\")\n",
    "print(bets_df.dtypes)"
   ]
  },
  {
   "cell_type": "code",
   "execution_count": 26,
   "metadata": {},
   "outputs": [
    {
     "name": "stdout",
     "output_type": "stream",
     "text": [
      "Memory usage before conversion: 306.46 MB\n"
     ]
    }
   ],
   "source": [
    "# Looking at how much memory will be saved by these conversions, as the dataset is so large \n",
    "mem_before = bets_df.memory_usage(deep=True).sum() / (1024**2) \n",
    "print(f\"Memory usage before conversion: {mem_before:.2f} MB\")"
   ]
  },
  {
   "cell_type": "code",
   "execution_count": 27,
   "metadata": {},
   "outputs": [
    {
     "name": "stdout",
     "output_type": "stream",
     "text": [
      "\n",
      "Updated Bet dtypes:\n",
      "month              datetime64[ns]\n",
      "account_id                  int32\n",
      "sport_name               category\n",
      "in_play_yn                   bool\n",
      "freebet_used_yn              bool\n",
      "bet_type                 category\n",
      "max_bet_yn                   bool\n",
      "market_group             category\n",
      "stakes                    float32\n",
      "revenue                   float32\n",
      "betcount                    int32\n",
      "dtype: object\n"
     ]
    }
   ],
   "source": [
    "# Converting column types for optimisation \n",
    "bets_df['month'] = pd.to_datetime(bets_df['month'])\n",
    "\n",
    "for col in ['in_play_yn', 'freebet_used_yn', 'max_bet_yn']:\n",
    "    bets_df[col] = bets_df[col].map({'Y': True, 'N': False})\n",
    "\n",
    "bets_df['account_id'] = bets_df['account_id'].astype('int32')\n",
    "bets_df['betcount'] = bets_df['betcount'].astype('int32')\n",
    "\n",
    "for col in ['sport_name', 'bet_type', 'market_group']:\n",
    "    bets_df[col] = bets_df[col].astype('category')\n",
    "\n",
    "bets_df['stakes'] = bets_df['stakes'].astype('float32')\n",
    "bets_df['revenue'] = bets_df['revenue'].astype('float32')\n",
    "\n",
    "print(\"\\nUpdated Bet dtypes:\")\n",
    "print(bets_df.dtypes)"
   ]
  },
  {
   "cell_type": "code",
   "execution_count": 28,
   "metadata": {},
   "outputs": [
    {
     "name": "stdout",
     "output_type": "stream",
     "text": [
      "Memory usage after conversion: 27.72 MB\n",
      "Memory reduced by: 278.74 MB (91.0%)\n"
     ]
    }
   ],
   "source": [
    "mem_after = bets_df.memory_usage(deep=True).sum() / (1024**2) \n",
    "print(f\"Memory usage after conversion: {mem_after:.2f} MB\")\n",
    "\n",
    "print(f\"Memory reduced by: {mem_before - mem_after:.2f} MB ({100*(mem_before - mem_after)/mem_before:.1f}%)\")"
   ]
  },
  {
   "cell_type": "code",
   "execution_count": 29,
   "metadata": {},
   "outputs": [
    {
     "name": "stdout",
     "output_type": "stream",
     "text": [
      "\n",
      "Bets missing values:\n",
      "month              0\n",
      "account_id         0\n",
      "sport_name         0\n",
      "in_play_yn         0\n",
      "freebet_used_yn    0\n",
      "bet_type           0\n",
      "max_bet_yn         0\n",
      "market_group       0\n",
      "stakes             0\n",
      "revenue            0\n",
      "betcount           0\n",
      "dtype: int64\n"
     ]
    }
   ],
   "source": [
    "print(\"\\nBets missing values:\")\n",
    "print(bets_df.isnull().sum())"
   ]
  },
  {
   "cell_type": "code",
   "execution_count": 30,
   "metadata": {},
   "outputs": [
    {
     "name": "stdout",
     "output_type": "stream",
     "text": [
      "\n",
      "Bets duplicate values:\n"
     ]
    },
    {
     "data": {
      "text/plain": [
       "0"
      ]
     },
     "execution_count": 30,
     "metadata": {},
     "output_type": "execute_result"
    }
   ],
   "source": [
    "print(\"\\nBets duplicate values:\")\n",
    "bets_df.duplicated().sum()"
   ]
  },
  {
   "cell_type": "code",
   "execution_count": 31,
   "metadata": {},
   "outputs": [
    {
     "name": "stdout",
     "output_type": "stream",
     "text": [
      "       month  account_id    sport_name  in_play_yn  freebet_used_yn  bet_type  \\\n",
      "765294   May       10882  Horse Racing       False            False    Single   \n",
      "765295   May       13633        Soccer       False            False  Multiple   \n",
      "765296   Jun       23934  Horse Racing       False            False    Single   \n",
      "765297   Jun        7025  Horse Racing       False            False    Single   \n",
      "765298   Jul       12425        Soccer        True            False  Multiple   \n",
      "\n",
      "        max_bet_yn         market_group      stakes     revenue  betcount  \n",
      "765294       False         Win/Each Way  126.995560 -209.500336        12  \n",
      "765295       False  Other Match Betting    1.801772    1.801772         5  \n",
      "765296       False         Win/Each Way   31.926514   21.379362        14  \n",
      "765297       False         Win/Each Way  465.885498  -49.911327        45  \n",
      "765298       False           Match Odds    0.736832    0.736832         8  \n"
     ]
    }
   ],
   "source": [
    "# Strip 'month' down to just month value for readability\n",
    "bets_df['month'] = bets_df['month'].dt.strftime('%b')\n",
    "print(bets_df.tail())"
   ]
  },
  {
   "cell_type": "code",
   "execution_count": 32,
   "metadata": {},
   "outputs": [
    {
     "name": "stdout",
     "output_type": "stream",
     "text": [
      "\n",
      "Betting data summary:\n",
      "         month     account_id sport_name in_play_yn freebet_used_yn bet_type  \\\n",
      "count   764754  764754.000000     764754     764754          764754   764754   \n",
      "unique      12            NaN         10          2               2        2   \n",
      "top        Jun            NaN     Soccer      False           False   Single   \n",
      "freq     81658            NaN     433908     593971          661710   501361   \n",
      "mean       NaN   19703.836985        NaN        NaN             NaN      NaN   \n",
      "std        NaN   11416.654169        NaN        NaN             NaN      NaN   \n",
      "min        NaN       1.000000        NaN        NaN             NaN      NaN   \n",
      "25%        NaN   10125.000000        NaN        NaN             NaN      NaN   \n",
      "50%        NaN   19654.000000        NaN        NaN             NaN      NaN   \n",
      "75%        NaN   29347.000000        NaN        NaN             NaN      NaN   \n",
      "max        NaN   40000.000000        NaN        NaN             NaN      NaN   \n",
      "\n",
      "       max_bet_yn  market_group         stakes        revenue       betcount  \n",
      "count      764754        764754  764754.000000  764754.000000  764754.000000  \n",
      "unique          2            49            NaN            NaN            NaN  \n",
      "top         False  Win/Each Way            NaN            NaN            NaN  \n",
      "freq       721392        178868            NaN            NaN            NaN  \n",
      "mean          NaN           NaN      86.064072       2.666880       7.653934  \n",
      "std           NaN           NaN     805.303223     266.475006      38.692195  \n",
      "min           NaN           NaN       0.000388  -70502.125000       1.000000  \n",
      "25%           NaN           NaN       3.581313       0.190044       1.000000  \n",
      "50%           NaN           NaN      10.150957       4.196880       2.000000  \n",
      "75%           NaN           NaN      32.415944      12.976800       4.000000  \n",
      "max           NaN           NaN  212217.468750   38737.500000    6912.000000  \n"
     ]
    }
   ],
   "source": [
    "print(\"\\nBetting data summary:\")\n",
    "print(bets_df.describe(include='all'))"
   ]
  },
  {
   "cell_type": "markdown",
   "metadata": {},
   "source": [
    "### Initial notes and insights on betting data \n",
    "\n",
    "1. Again, no missing or duplicate values. \n",
    "2. With the monthly data, could track betting trends across the calendar year (changes in sport popularity etc). \n",
    "3. 11 sport options, with soccer the most popular. Could explore which sports drive most revenue, which are riskiest. \n",
    "4. The yes/no values in in_play_yn, freebet_used_yn etc could explore whether in play, free bets etc are most profitable. Combining with the customer data, could explore what the 'sharp' users are utilising. \n",
    "5. The 49 different values in market_group could provide insight into which markets are profitable/ unprofitable (and this could tie back in to sport).\n",
    "6. Stakes and revenue: could explore what is the distribution of this. Perhaps are some high-value customers driving higher revenue? \n",
    "\n",
    "With the scale of this dataset, it might need aggregating by account_id in order to provide useful insights. "
   ]
  },
  {
   "cell_type": "markdown",
   "metadata": {},
   "source": [
    "## Additional processing on bets data "
   ]
  },
  {
   "cell_type": "markdown",
   "metadata": {},
   "source": [
    "### Betting activity patterns over months "
   ]
  },
  {
   "cell_type": "code",
   "execution_count": 33,
   "metadata": {},
   "outputs": [
    {
     "name": "stdout",
     "output_type": "stream",
     "text": [
      "      stakes revenue betcount\n",
      "month                        \n",
      "Jan     1.6M    0.1M  165,803\n",
      "Feb     4.0M    0.1M  473,480\n",
      "Mar     6.2M    0.0M  621,291\n",
      "Apr     5.8M    0.2M  622,055\n",
      "May     5.5M    0.1M  438,237\n",
      "Jun     5.8M    0.2M  548,201\n",
      "Jul     6.1M    0.1M  491,893\n",
      "Aug     5.8M    0.4M  508,053\n",
      "Sep     6.2M    0.2M  494,732\n",
      "Oct     6.0M    0.3M  481,148\n",
      "Nov     6.4M   -0.1M  481,443\n",
      "Dec     6.4M    0.3M  527,041\n"
     ]
    }
   ],
   "source": [
    "# Snapshot of betting activity across the calendar year\n",
    "month_order = ['Jan', 'Feb', 'Mar', 'Apr', 'May', 'Jun', \n",
    "               'Jul', 'Aug', 'Sep', 'Oct', 'Nov', 'Dec']\n",
    "bets_df['month'] = pd.Categorical(bets_df['month'], categories=month_order, ordered=True)\n",
    "\n",
    "summary = bets_df.groupby('month', observed=True)[['stakes', 'revenue', 'betcount']].sum()\n",
    "summary_formatted = summary.copy()\n",
    "summary_formatted['stakes'] = summary_formatted['stakes'].apply(lambda x: f'{x/1_000_000:.1f}M')\n",
    "summary_formatted['revenue'] = summary_formatted['revenue'].apply(lambda x: f'{x/1_000_000:.1f}M')\n",
    "summary_formatted['betcount'] = summary_formatted['betcount'].apply(lambda x: f'{x:,}')\n",
    "\n",
    "print(summary_formatted)"
   ]
  },
  {
   "cell_type": "markdown",
   "metadata": {},
   "source": [
    "Betting volume (stakes and betcount) are rising from Jan - March/April and then staying high throughout the year. \n",
    "\n",
    "Revenue is positive in most months (except November). This doesn't always scale with stakes - stakes are highest in March but revenue is low. \n",
    "\n",
    "Generally speaking, the betcount is following the stakes (although this is not consistent - see February)."
   ]
  },
  {
   "cell_type": "code",
   "execution_count": 34,
   "metadata": {},
   "outputs": [
    {
     "name": "stdout",
     "output_type": "stream",
     "text": [
      "      stakes_Paid stakes_Freebet revenue_Paid revenue_Freebet\n",
      "month                                                        \n",
      "Jan         1.60M          0.04M        0.14M           0.01M\n",
      "Feb         3.94M          0.09M        0.08M           0.02M\n",
      "Mar         6.03M          0.18M        0.00M           0.04M\n",
      "Apr         5.69M          0.15M        0.13M           0.03M\n",
      "May         5.31M          0.15M        0.06M           0.03M\n",
      "Jun         5.63M          0.19M        0.19M           0.04M\n",
      "Jul         5.91M          0.17M        0.10M           0.04M\n",
      "Aug         5.58M          0.18M        0.33M           0.04M\n",
      "Sep         6.02M          0.14M        0.19M           0.03M\n",
      "Oct         5.84M          0.15M        0.25M           0.02M\n",
      "Nov         6.24M          0.15M       -0.07M           0.02M\n",
      "Dec         6.23M          0.19M        0.30M           0.03M\n"
     ]
    }
   ],
   "source": [
    "# Usage of free vs paid bets across the calendar year \n",
    "\n",
    "summary = bets_df.groupby(['month', 'freebet_used_yn'], observed=True)[['stakes', 'revenue']].sum().unstack()\n",
    "summary.columns = [f'{metric}_{\"Freebet\" if fb else \"Paid\"}' for metric, fb in summary.columns]\n",
    "\n",
    "summary_formatted = summary.copy()\n",
    "for col in summary_formatted.columns:\n",
    "    summary_formatted[col] = summary_formatted[col].apply(lambda x: f'{x/1_000_000:.2f}M' if 'stakes' in col or 'revenue' in col else x)\n",
    "\n",
    "print(summary_formatted)"
   ]
  },
  {
   "cell_type": "markdown",
   "metadata": {},
   "source": [
    "Free bet stakes are quite small (and consistently lower than paid bets). They might be used as a promotional tool. In most months, **free bets are generating revenue** (although lower than the paid bets). Interestingly, in a couple of instances (March), they are actually generating more revenue than paid bets. \n",
    "\n",
    "**March and November are outliers** here - paid bets having near-zero revenue but there were paid stakes. Maybe this indicates poor margins, high payouts or unusual betting behaviours. November in particular is showing negative revenue.\n",
    "\n",
    "The **free bets are returning a higher percent of revenue** (10-20) than paid (1-3). Free bets seem to be well targeted and cost effective - low stake volumes. "
   ]
  },
  {
   "cell_type": "code",
   "execution_count": 35,
   "metadata": {},
   "outputs": [
    {
     "name": "stdout",
     "output_type": "stream",
     "text": [
      "max_bet_yn  False  True \n",
      "month                   \n",
      "Jan         94.73   5.27\n",
      "Feb         94.18   5.82\n",
      "Mar         94.65   5.35\n",
      "Apr         95.12   4.88\n",
      "May         93.93   6.07\n",
      "Jun         95.42   4.58\n",
      "Jul         95.48   4.52\n",
      "Aug         93.88   6.12\n",
      "Sep         93.44   6.56\n",
      "Oct         93.39   6.61\n",
      "Nov         92.99   7.01\n",
      "Dec         93.99   6.01\n"
     ]
    }
   ],
   "source": [
    "# Max bet usage across the calendar year \n",
    "\n",
    "percentage_counts = bets_df.groupby('month', observed=True)['max_bet_yn'].value_counts(normalize=True).unstack(fill_value=0) * 100\n",
    "print(percentage_counts.round(2))"
   ]
  },
  {
   "cell_type": "markdown",
   "metadata": {},
   "source": [
    "In every month, the punters are not using their max bet option. They are generally conservative with their stakes. "
   ]
  },
  {
   "cell_type": "code",
   "execution_count": 36,
   "metadata": {},
   "outputs": [
    {
     "name": "stdout",
     "output_type": "stream",
     "text": [
      "month\n",
      "Jan    21.420940\n",
      "Feb    23.897284\n",
      "Mar    20.208289\n",
      "Apr    21.541171\n",
      "May    22.716895\n",
      "Jun    22.564844\n",
      "Jul    23.872321\n",
      "Aug    21.474207\n",
      "Sep    22.737254\n",
      "Oct    22.276968\n",
      "Nov    22.652077\n",
      "Dec    22.545298\n",
      "Name: in_play_yn, dtype: float64\n"
     ]
    }
   ],
   "source": [
    "# In play vs pre match betting across the year \n",
    "\n",
    "in_play_percentage = bets_df.groupby('month', observed=True)['in_play_yn'].mean() * 100\n",
    "print(in_play_percentage)"
   ]
  },
  {
   "cell_type": "markdown",
   "metadata": {},
   "source": [
    "Very stable in-play percentage across the year - punters tendency to bet live does not really change. "
   ]
  },
  {
   "cell_type": "markdown",
   "metadata": {},
   "source": [
    "## Bet types nd their impact "
   ]
  },
  {
   "cell_type": "code",
   "execution_count": 37,
   "metadata": {},
   "outputs": [
    {
     "name": "stdout",
     "output_type": "stream",
     "text": [
      "       month  account_id    sport_name  in_play_yn  freebet_used_yn  bet_type  \\\n",
      "765294   May       10882  Horse Racing       False            False    Single   \n",
      "765295   May       13633        Soccer       False            False  Multiple   \n",
      "765296   Jun       23934  Horse Racing       False            False    Single   \n",
      "765297   Jun        7025  Horse Racing       False            False    Single   \n",
      "765298   Jul       12425        Soccer        True            False  Multiple   \n",
      "\n",
      "        max_bet_yn         market_group      stakes     revenue  betcount  \n",
      "765294       False         Win/Each Way  126.995560 -209.500336        12  \n",
      "765295       False  Other Match Betting    1.801772    1.801772         5  \n",
      "765296       False         Win/Each Way   31.926514   21.379362        14  \n",
      "765297       False         Win/Each Way  465.885498  -49.911327        45  \n",
      "765298       False           Match Odds    0.736832    0.736832         8  \n"
     ]
    }
   ],
   "source": [
    "print(bets_df.tail())"
   ]
  },
  {
   "cell_type": "code",
   "execution_count": 38,
   "metadata": {},
   "outputs": [
    {
     "name": "stdout",
     "output_type": "stream",
     "text": [
      "                stakes     revenue  profit_margin\n",
      "in_play_yn                                       \n",
      "False       51464024.0  1838418.25       0.035722\n",
      "True        14353827.0   201089.50       0.014009\n"
     ]
    }
   ],
   "source": [
    "# Profitability comparison of in-play vs pre match betting\n",
    "\n",
    "profitability = bets_df.groupby('in_play_yn').agg({\n",
    "    'stakes': 'sum',\n",
    "    'revenue': 'sum'\n",
    "})\n",
    "\n",
    "profitability['profit_margin'] = profitability['revenue'] / profitability['stakes']\n",
    "print(profitability)"
   ]
  },
  {
   "cell_type": "markdown",
   "metadata": {},
   "source": [
    "Prematch betting is much more profitable - the profit margin is twice that of the in-game betting. \n",
    "\n",
    "Stakes placed in-game are also lower. Customers may take fewer risks while the match is in session. "
   ]
  },
  {
   "cell_type": "code",
   "execution_count": 39,
   "metadata": {},
   "outputs": [
    {
     "name": "stdout",
     "output_type": "stream",
     "text": [
      "              stakes       revenue  betcount\n",
      "bet_type                                    \n",
      "Single    55227504.0  4.009679e+05   4248751\n",
      "Multiple  10590348.0  1.638540e+06   1604626\n"
     ]
    }
   ],
   "source": [
    "# Bet types: stakes, revenue and betcount \n",
    "\n",
    "bet_type_summary = bets_df.groupby('bet_type', observed=True)[['stakes', 'revenue', 'betcount']].sum().sort_values(by='stakes', ascending=False)\n",
    "\n",
    "print(bet_type_summary)"
   ]
  },
  {
   "cell_type": "markdown",
   "metadata": {},
   "source": [
    "Single bets are dominating in terms of stakes and number of bets. \n",
    "\n",
    "However, multiple bets are generating more revenue for the house than single bets. "
   ]
  },
  {
   "cell_type": "markdown",
   "metadata": {},
   "source": [
    "### Sports breakdowns"
   ]
  },
  {
   "cell_type": "code",
   "execution_count": 40,
   "metadata": {},
   "outputs": [
    {
     "name": "stdout",
     "output_type": "stream",
     "text": [
      "    month    sport_name       stakes\n",
      "6     Jan  Horse Racing   724650.875\n",
      "16    Feb  Horse Racing  1971271.750\n",
      "26    Mar  Horse Racing  3691780.250\n",
      "36    Apr  Horse Racing  3216098.750\n",
      "46    May  Horse Racing  3218054.000\n",
      "56    Jun  Horse Racing  3453619.250\n",
      "66    Jul  Horse Racing  3419530.250\n",
      "76    Aug  Horse Racing  3505939.250\n",
      "86    Sep  Horse Racing  3331249.750\n",
      "96    Oct  Horse Racing  3222554.000\n",
      "106   Nov  Horse Racing  3318699.500\n",
      "116   Dec  Horse Racing  3005914.750\n"
     ]
    }
   ],
   "source": [
    "# Most popular sport by month \n",
    "\n",
    "monthly_sport_stakes = bets_df.groupby(['month', 'sport_name'], observed=True)['stakes'].sum().reset_index()\n",
    "most_popular_sport_by_month = monthly_sport_stakes.loc[monthly_sport_stakes.groupby('month', observed=True)['stakes'].idxmax()]\n",
    "\n",
    "print(most_popular_sport_by_month[['month', 'sport_name', 'stakes']])\n"
   ]
  },
  {
   "cell_type": "markdown",
   "metadata": {},
   "source": [
    "Horse racing is consistently the most popular punter sport, in terms of stakes placed. "
   ]
  },
  {
   "cell_type": "code",
   "execution_count": 41,
   "metadata": {},
   "outputs": [
    {
     "name": "stdout",
     "output_type": "stream",
     "text": [
      "sport_name  American Football  Basketball  Cricket  Darts   Golf  \\\n",
      "month                                                              \n",
      "Jan                       539        2199      984    831   1683   \n",
      "Feb                      1853        5956     4191   1663   4157   \n",
      "Mar                         2       10407     4369   1966   5041   \n",
      "Apr                        35        6121     4480   1567  18975   \n",
      "May                         9        4111     5035   1036   6915   \n",
      "Jun                         1        2187     2675    539  10899   \n",
      "Jul                         1        2334     3908   2431  19532   \n",
      "Aug                       106         792     3537    276  10221   \n",
      "Sep                      6647        1859     2197   1257  10741   \n",
      "Oct                      6930        5278     2166   1301   4747   \n",
      "Nov                      7347        8310     4803   3273   5167   \n",
      "Dec                      7451        7524     3840   8043   2000   \n",
      "\n",
      "sport_name  Greyhound Racing  Horse Racing  Rugby Union  Soccer  Tennis  \n",
      "month                                                                    \n",
      "Jan                     2610         72231          964   80236    3526  \n",
      "Feb                     6690        178477         7866  252526   10101  \n",
      "Mar                     9810        357441         7804  212186   12265  \n",
      "Apr                     8675        343683         3562  224728   10229  \n",
      "May                     7897        276346         2680  121356   12852  \n",
      "Jun                     7416        293757         3215  214517   12995  \n",
      "Jul                     7198        275190         1367  161345   18587  \n",
      "Aug                     8445        304708         1111  164060   14797  \n",
      "Sep                     9084        278153         3371  169194   12229  \n",
      "Oct                    10573        277442         3119  157742   11850  \n",
      "Nov                    10664        260988         5631  164414   10846  \n",
      "Dec                    10849        269330         2779  208801    6424  \n"
     ]
    }
   ],
   "source": [
    "# Monthly betting activity across all sports \n",
    "\n",
    "monthly_sport_bets = bets_df.groupby(['month', 'sport_name'], observed=True)['betcount'].sum().reset_index()\n",
    "pivot_bets = monthly_sport_bets.pivot(index='month', columns='sport_name', values='betcount')\n",
    "print(pivot_bets)"
   ]
  },
  {
   "cell_type": "markdown",
   "metadata": {},
   "source": [
    "Horse racing: big peak in March and high values in most months. \n",
    "\n",
    "Darts: rise in betcount in November and December. \n",
    "\n",
    "American football: extremely seasonal, almost no activity in the off season.\n",
    "\n",
    "Soccer: very high volume each month with a peak in February.\n",
    "\n",
    "Cricket: Feb - Apr and Nov - Dec are peaks. \n",
    "\n",
    "Tennis: consistent activity through the year, drops off in January and December. \n",
    "\n",
    "Greyhound racing: active year round, lower betcount in January in line with quieter period. \n",
    "\n",
    "Golf: sharp spikes in certain months, very seasonal. \n",
    "\n",
    "Rugby union: peaks in Feb-March and November, quiet in summertime. "
   ]
  },
  {
   "cell_type": "code",
   "execution_count": 42,
   "metadata": {},
   "outputs": [
    {
     "name": "stdout",
     "output_type": "stream",
     "text": [
      "                  stakes revenue\n",
      "sport_name                      \n",
      "Horse Racing       36.1M    0.8M\n",
      "Soccer             18.0M    1.2M\n",
      "Tennis              3.5M    0.1M\n",
      "American Football   1.8M   -0.1M\n",
      "Basketball          1.5M   -0.0M\n",
      "Cricket             1.4M   -0.0M\n",
      "Golf                1.1M   -0.1M\n",
      "Greyhound Racing    1.0M    0.0M\n",
      "Rugby Union         0.9M    0.0M\n",
      "Darts               0.4M    0.1M\n"
     ]
    }
   ],
   "source": [
    "# Stakes and revenue by sport \n",
    "\n",
    "sport_summary = bets_df.groupby('sport_name', observed=True)[['stakes', 'revenue']].sum().sort_values(by='stakes', ascending=False)\n",
    "sport_summary_formatted = sport_summary.copy()\n",
    "sport_summary_formatted['stakes'] = sport_summary_formatted['stakes'].apply(lambda x: f'{x/1_000_000:.1f}M')\n",
    "sport_summary_formatted['revenue'] = sport_summary_formatted['revenue'].apply(lambda x: f'{x/1_000_000:.1f}M')\n",
    "\n",
    "print(sport_summary_formatted)"
   ]
  },
  {
   "cell_type": "markdown",
   "metadata": {},
   "source": [
    "**Horse racing is the most popular in terms of betting volume (by a wide margin) but soccer has the highest revenue**, despite lower stakes. Betting on soccer seems more profitable (due to customer behaviour/bet types/margins etc).\n",
    "\n",
    "Several sports **(golf, cricket etc) have meaningful stakes** but negative or non-zero revenue.\n",
    "\n",
    "There are some niche sports (rugby union, darts) which have low stakes but are generating revenue. They are small but profitable."
   ]
  },
  {
   "cell_type": "code",
   "execution_count": 43,
   "metadata": {},
   "outputs": [
    {
     "name": "stdout",
     "output_type": "stream",
     "text": [
      "Average monthly % change by sport:\n",
      "                   stakes_pct_change  revenue_pct_change\n",
      "sport_name                                              \n",
      "American Football          24.449923            3.404812\n",
      "Darts                       1.399049          -12.666060\n",
      "Rugby Union                 0.497780            2.630641\n",
      "Basketball                  0.460114            0.570771\n",
      "Greyhound Racing            0.418763           -1.049095\n",
      "Cricket                     0.338747           -1.481544\n",
      "Golf                        0.277837            3.388067\n",
      "Horse Racing                0.218781           -1.154663\n",
      "Soccer                      0.161504            0.437914\n",
      "Tennis                      0.088440            0.744560\n"
     ]
    }
   ],
   "source": [
    "#Average month to month growth in stakes across sports \n",
    "\n",
    "trends = bets_df.groupby(['month', 'sport_name'], observed=True)[['stakes', 'revenue']].sum().reset_index()\n",
    "trends['stakes_pct_change'] = trends.groupby('sport_name', observed=True)['stakes'].pct_change()\n",
    "trends['revenue_pct_change'] = trends.groupby('sport_name', observed=True)['revenue'].pct_change()\n",
    "\n",
    "# Some infinite values are skewing results, so replacing with NaN to correct\n",
    "trends.replace([np.inf, -np.inf], np.nan, inplace=True)\n",
    "\n",
    "growth_summary = trends.groupby('sport_name', observed=True)[['stakes_pct_change', 'revenue_pct_change']].mean().sort_values(by='stakes_pct_change', ascending=False)\n",
    "print(\"Average monthly % change by sport:\")\n",
    "print(growth_summary)"
   ]
  },
  {
   "cell_type": "markdown",
   "metadata": {},
   "source": [
    "**American football is showing massive monthly increase** in stakes and strong positive revenue. Monetisation and betting in the sport seem to be increasing. This is a fast-growing opportunity and may be worth focusing on.\n",
    "\n",
    "Darts is showing a moderate increase in stakes but a significant revenue drop. Bettors seem to be staking more but house revenue is falling. This might need review for pricing etc.\n",
    "\n",
    "Rugby union, basketball and golf are showing modest positive growth in stakes and overall positive revenue. \n",
    "\n",
    "**Horse racing (although previously identified as having high volume) is showing low stakes growth and a slight revenue drop**. Bettor interest may be shifting elsewhere, this may need innovation. \n",
    "\n",
    "Soccer and tennis are both experiencing small, positive growth in revenue and stakes. \n",
    "\n",
    "Greyhound racing and cricket display negative revenue trends. "
   ]
  },
  {
   "cell_type": "code",
   "execution_count": 44,
   "metadata": {},
   "outputs": [
    {
     "data": {
      "image/png": "[encoded data removed]",
      "text/plain": [
       "<Figure size 1200x600 with 1 Axes>"
      ]
     },
     "metadata": {},
     "output_type": "display_data"
    }
   ],
   "source": [
    "## Visualising darts, horse racing and American football due to above insights\n",
    "\n",
    "plt.figure(figsize=(12, 6))\n",
    "\n",
    "for sport in ['Horse Racing', 'Darts', 'American Football']:\n",
    "    subset = trends[trends['sport_name'] == sport]\n",
    "    plt.plot(subset['month'], subset['stakes'], label=f'{sport} Stakes')\n",
    "    plt.plot(subset['month'], subset['revenue'], linestyle='--', label=f'{sport} Revenue')\n",
    "\n",
    "plt.title('Monthly Stakes and Revenue Over Time')\n",
    "plt.xlabel('Month')\n",
    "plt.ylabel('Amount')\n",
    "plt.legend()\n",
    "plt.show()"
   ]
  },
  {
   "cell_type": "markdown",
   "metadata": {},
   "source": [
    "Clear seasonality is visible for both darts and American football. "
   ]
  },
  {
   "cell_type": "code",
   "execution_count": 45,
   "metadata": {},
   "outputs": [
    {
     "name": "stdout",
     "output_type": "stream",
     "text": [
      "max_bet_yn             False      True \n",
      "sport_name                             \n",
      "American Football  91.654731   8.345269\n",
      "Basketball         80.882609  19.117391\n",
      "Cricket            87.307410  12.692590\n",
      "Darts              93.548387   6.451613\n",
      "Golf               93.775354   6.224646\n",
      "Greyhound Racing   91.350312   8.649688\n",
      "Horse Racing       93.832855   6.167145\n",
      "Rugby Union        93.811982   6.188018\n",
      "Soccer             95.638476   4.361524\n",
      "Tennis             86.405738  13.594262\n"
     ]
    }
   ],
   "source": [
    "# Max bets by sport \n",
    "\n",
    "max_bet_by_sport = bets_df.groupby(['sport_name', 'max_bet_yn'], observed=True).size().unstack(fill_value=0)\n",
    "max_bet_by_sport_pct = max_bet_by_sport.div(max_bet_by_sport.sum(axis=1), axis=0) * 100\n",
    "\n",
    "print(max_bet_by_sport_pct)"
   ]
  },
  {
   "cell_type": "markdown",
   "metadata": {},
   "source": [
    "Basketball, tennis and cricket have a higher rate of max bet users. \n",
    "\n",
    "Despite popularity, soccer has a low max bet usage. \n",
    "\n",
    "American football, greyhound racing, horse racing, darts, golf, rugby union all have max bet usage rates that are broadly in line with the calendar year norms. "
   ]
  },
  {
   "cell_type": "code",
   "execution_count": 46,
   "metadata": {},
   "outputs": [
    {
     "name": "stdout",
     "output_type": "stream",
     "text": [
      "in_play_yn         prematch_pct  inplay_pct\n",
      "sport_name                                 \n",
      "Horse Racing          96.871933    3.128074\n",
      "Soccer                60.184925   39.815075\n",
      "Tennis                27.403091   72.596909\n",
      "American Football     89.230637   10.769363\n",
      "Basketball            29.504892   70.495102\n",
      "Cricket               11.625333   88.374672\n",
      "Golf                  70.661865   29.338131\n",
      "Greyhound Racing     100.000000    0.000000\n",
      "Rugby Union           48.209438   51.790565\n",
      "Darts                 60.385609   39.614391\n"
     ]
    }
   ],
   "source": [
    "# Prematch vs in-play betting by sport \n",
    "\n",
    "sport_inplay = bets_df.groupby(['sport_name', 'in_play_yn'], observed=True)['stakes'].sum().unstack(fill_value=0)\n",
    "\n",
    "sport_inplay['total'] = sport_inplay.sum(axis=1)\n",
    "sport_inplay['prematch_pct'] = sport_inplay[False] / sport_inplay['total'] * 100\n",
    "sport_inplay['inplay_pct'] = sport_inplay[True] / sport_inplay['total'] * 100\n",
    "result = sport_inplay[['prematch_pct', 'inplay_pct', 'total']].sort_values(by='total', ascending=False)\n",
    "result = result.drop(columns='total')\n",
    "\n",
    "print(result)"
   ]
  },
  {
   "cell_type": "markdown",
   "metadata": {},
   "source": [
    "There's a range of betting styles at play: \n",
    "- Horse racing, soccer, golf, greyhound racing, American football skew heavily towards prematch betting. \n",
    "\n",
    "- Tennis and cricket are dominated by in-play betting. \n",
    "\n",
    "- Rugny union, basketball and darts bettors have a roughly even split on in-play vs prematch betting. \n"
   ]
  },
  {
   "cell_type": "code",
   "execution_count": 47,
   "metadata": {},
   "outputs": [
    {
     "name": "stdout",
     "output_type": "stream",
     "text": [
      "bet_type           Multiple  Single\n",
      "sport_name                         \n",
      "American Football     26.49   73.51\n",
      "Basketball            27.96   72.04\n",
      "Cricket                8.36   91.64\n",
      "Darts                 42.18   57.82\n",
      "Golf                  11.65   88.35\n",
      "Greyhound Racing      12.32   87.68\n",
      "Horse Racing          21.90   78.10\n",
      "Rugby Union           27.11   72.89\n",
      "Soccer                37.48   62.52\n",
      "Tennis                25.00   75.00\n"
     ]
    }
   ],
   "source": [
    "# Bet type percntages across the sports\n",
    "bet_type_counts = bets_df.groupby(['sport_name', 'bet_type'], observed=True)['betcount'].sum().unstack(fill_value=0)\n",
    "bet_type_percentages = bet_type_counts.div(bet_type_counts.sum(axis=1), axis=0) * 100\n",
    "bet_type_percentages = bet_type_percentages.round(2)\n",
    "\n",
    "print(bet_type_percentages)"
   ]
  },
  {
   "cell_type": "markdown",
   "metadata": {},
   "source": [
    "Single bets are dominating most sports but multiples are popular in a few (darts/soccer/basketball/american football/rugby union)."
   ]
  },
  {
   "cell_type": "markdown",
   "metadata": {},
   "source": [
    "## Customer behaviour and trends "
   ]
  },
  {
   "cell_type": "code",
   "execution_count": 48,
   "metadata": {},
   "outputs": [],
   "source": [
    "# Aggregate total stakes, revenue, and betcount of each account\n",
    "customer_agg = bets_df.groupby('account_id').agg({\n",
    "    'stakes': 'sum',\n",
    "    'revenue': 'sum',\n",
    "    'betcount': 'sum'\n",
    "}).reset_index()"
   ]
  },
  {
   "cell_type": "code",
   "execution_count": 49,
   "metadata": {},
   "outputs": [
    {
     "name": "stdout",
     "output_type": "stream",
     "text": [
      "Top 10 bettors by stakes:\n",
      "       account_id        stakes       revenue  betcount\n",
      "35687       36447  590933.81250 -87084.070312       163\n",
      "1773         1811  523278.53125 -88184.375000       150\n",
      "33293       34005  497125.75000  -7392.306152      2713\n",
      "16179       16528  398293.09375  12117.344727      6281\n",
      "25986       26532  392191.18750 -38525.769531      3769\n",
      "9322         9512  387861.28125 -18743.626953      2396\n",
      "24262       24775  342200.84375  -2308.264893      1582\n",
      "5034         5129  334222.90625 -14669.608398       371\n",
      "439           448  313524.59375  19544.375000      9283\n",
      "14145       14452  311286.59375   1812.242432      5707\n"
     ]
    }
   ],
   "source": [
    "# Top bettors by volume\n",
    "top_bettors_by_stakes = customer_agg.sort_values('stakes', ascending=False).head(10)\n",
    "print(\"Top 10 bettors by stakes:\")\n",
    "print(top_bettors_by_stakes)"
   ]
  },
  {
   "cell_type": "markdown",
   "metadata": {},
   "source": [
    "A mix of profitable and unprofitable bettors and also a variety in bet frequency. "
   ]
  },
  {
   "cell_type": "code",
   "execution_count": 50,
   "metadata": {},
   "outputs": [
    {
     "name": "stdout",
     "output_type": "stream",
     "text": [
      "\n",
      "Top 10 bettors by revenue:\n",
      "       account_id         stakes       revenue  betcount\n",
      "23296       23783   46378.984375  38713.355469        22\n",
      "25283       25818  286898.937500  27884.474609      3045\n",
      "1663         1700  175299.984375  22616.734375      1576\n",
      "12697       12966  147068.140625  22532.841797      9375\n",
      "8751         8925  181375.671875  21276.648438      7866\n",
      "10891       11118  113319.734375  21242.228516      2508\n",
      "17198       17564  109973.054688  20794.394531      1913\n",
      "439           448  313524.593750  19544.375000      9283\n",
      "38190       38992  114309.531250  18904.517578       303\n",
      "31883       32566   75300.273438  17388.667969      4466\n"
     ]
    }
   ],
   "source": [
    "# Most profitable bettors \n",
    "top_bettors_by_revenue = customer_agg.sort_values('revenue', ascending=False).head(10)\n",
    "print(\"\\nTop 10 bettors by revenue:\")\n",
    "print(top_bettors_by_revenue)"
   ]
  },
  {
   "cell_type": "markdown",
   "metadata": {},
   "source": [
    "Very diverse betting profiles on show here - some have very high stakes and bet counts but others have fewer bets but still high profit. From a profitability perspective, these are the most valuable. \n",
    "\n",
    "For both this set of bettors and the preceding set, it would be interesting to explore who is flagged as a potential sharp. "
   ]
  },
  {
   "cell_type": "code",
   "execution_count": 51,
   "metadata": {},
   "outputs": [
    {
     "name": "stdout",
     "output_type": "stream",
     "text": [
      "\n",
      "Top 10 bettors by betcount:\n",
      "       account_id         stakes       revenue  betcount\n",
      "21138       21580   32460.644531   3408.894043     34627\n",
      "2976         3038   65388.746094  -4826.810547     18444\n",
      "7671         7818   48961.207031   3931.742432     17844\n",
      "27575       28158   34484.878906  10561.286133     17558\n",
      "16512       16868   18840.562500   2676.379883     16214\n",
      "24289       24804  121448.734375  17144.683594     15982\n",
      "22864       23344   95865.359375   6653.398926     15752\n",
      "2506         2563  111122.117188  -6515.566895     15133\n",
      "18784       19171   45934.183594   5362.817871     14836\n",
      "6107         6224   34321.476562   3920.262939     13199\n"
     ]
    }
   ],
   "source": [
    "# Highest betcounts \n",
    "top_bettors_by_betcount = customer_agg.sort_values('betcount', ascending=False).head(10)\n",
    "print(\"\\nTop 10 bettors by betcount:\")\n",
    "print(top_bettors_by_betcount)"
   ]
  },
  {
   "cell_type": "code",
   "execution_count": 52,
   "metadata": {},
   "outputs": [
    {
     "name": "stdout",
     "output_type": "stream",
     "text": [
      "Stakes and Revenue by Sport for Profitable Bettors:\n",
      "                   stakes revenue\n",
      "sport_name                       \n",
      "Horse Racing       22.45M   3.09M\n",
      "Tennis              2.20M   0.20M\n",
      "Soccer             11.20M   2.48M\n",
      "American Football   0.93M   0.06M\n",
      "Golf                0.67M   0.16M\n",
      "Greyhound Racing    0.62M   0.09M\n",
      "Cricket             0.61M   0.05M\n",
      "Basketball          0.53M   0.05M\n",
      "Rugby Union         0.45M   0.07M\n",
      "Darts               0.23M   0.05M\n"
     ]
    }
   ],
   "source": [
    "# Sports that profitable bettors concentrate on\n",
    "customer_summary = bets_df.groupby('account_id', observed=True).agg({\n",
    "    'stakes': 'sum',\n",
    "    'revenue': 'sum',\n",
    "    'betcount': 'sum'\n",
    "}).reset_index()\n",
    "customer_summary['roi'] = customer_summary['revenue'] / customer_summary['stakes']\n",
    "\n",
    "profitable_bettors = customer_summary[customer_summary['roi'] > 0]['account_id']\n",
    "profitable_bets = bets_df[bets_df['account_id'].isin(profitable_bettors)]\n",
    "profitable_sport_summary = profitable_bets.groupby('sport_name', observed=True)[['stakes', 'revenue']].sum()\n",
    "profitable_sport_summary_formatted = profitable_sport_summary.copy()\n",
    "profitable_sport_summary_formatted['stakes'] = profitable_sport_summary_formatted['stakes'].apply(lambda x: f'{x/1_000_000:.2f}M')\n",
    "profitable_sport_summary_formatted['revenue'] = profitable_sport_summary_formatted['revenue'].apply(lambda x: f'{x/1_000_000:.2f}M')\n",
    "\n",
    "print(\"Stakes and Revenue by Sport for Profitable Bettors:\")\n",
    "print(profitable_sport_summary_formatted.sort_values(by='stakes', ascending=False))"
   ]
  },
  {
   "cell_type": "markdown",
   "metadata": {},
   "source": [
    "The **profitable bettors are focused on horse racing and soccer**, with the highest stakes and revenue totals. These may be the most strategic for them. \n",
    "\n",
    "Tennis, American football, golf and greyhound racing all have smaller but meaningful stakes among the profitable bettors. Darts and rugby union have smaller stakes again but still a positive return. \n",
    "\n",
    "To tie this back to previous charts, two thirds of horse racing stakes overall are placed by profitable bettors. "
   ]
  },
  {
   "cell_type": "code",
   "execution_count": 53,
   "metadata": {},
   "outputs": [
    {
     "name": "stdout",
     "output_type": "stream",
     "text": [
      "Amount of sports profitable bettors bet on:\n",
      "   num_sports  num_bettors  percentage\n",
      "0           1        13029       45.75\n",
      "1           2         7546       26.50\n",
      "2           3         3778       13.27\n",
      "3           4         1957        6.87\n",
      "4           5         1021        3.59\n",
      "5           6          563        1.98\n",
      "6           7          282        0.99\n",
      "7           8          184        0.65\n",
      "8           9           86        0.30\n",
      "9          10           33        0.12\n"
     ]
    }
   ],
   "source": [
    "# Cross sport behaviour for profitable bettors \n",
    "\n",
    "sport_diversity = profitable_bets.groupby('account_id', observed=True)['sport_name'].nunique().reset_index()\n",
    "sport_diversity.columns = ['account_id', 'num_sports']\n",
    "sport_counts = sport_diversity['num_sports'].value_counts().sort_index()\n",
    "\n",
    "sport_percentages = (sport_counts / sport_counts.sum() * 100).round(2)\n",
    "sport_distribution = pd.DataFrame({\n",
    "    'num_sports': sport_counts.index,\n",
    "    'num_bettors': sport_counts.values,\n",
    "    'percentage': sport_percentages.values\n",
    "})\n",
    "\n",
    "print(\"Amount of sports profitable bettors bet on:\")\n",
    "print(sport_distribution)"
   ]
  },
  {
   "cell_type": "markdown",
   "metadata": {},
   "source": [
    "The cross-sport betting behaviour shows that almost half are specialists in one sport. Around a third bet on two or three sports, showing some diversity. \n",
    "\n",
    "It's extremely rare for them to diversify across multiple sports. This suggests that marketing to these clients should consider emphasising their key sports."
   ]
  },
  {
   "cell_type": "code",
   "execution_count": 54,
   "metadata": {},
   "outputs": [
    {
     "name": "stdout",
     "output_type": "stream",
     "text": [
      "in_play_yn         prematch_pct  inplay_pct\n",
      "sport_name                                 \n",
      "Horse Racing          97.683602    2.316398\n",
      "Soccer                68.594789   31.405211\n",
      "Tennis                22.088463   77.911537\n",
      "Greyhound Racing     100.000000    0.000000\n",
      "Golf                  67.871043   32.128957\n",
      "Basketball            52.385571   47.614429\n",
      "Cricket               24.766525   75.233475\n",
      "Rugby Union           74.988427   25.011573\n",
      "American Football     85.957804   14.042196\n",
      "Darts                 75.053443   24.946557\n"
     ]
    }
   ],
   "source": [
    "# Do profitable bettors use in play or prematch bets \n",
    "\n",
    "profitable_bettors = customer_summary[customer_summary['roi'] > 0]['account_id']\n",
    "profitable_bets = bets_df[bets_df['account_id'].isin(profitable_bettors)]\n",
    "\n",
    "profitable_inplay = profitable_bets.groupby(['sport_name', 'in_play_yn'], observed=True)['betcount'].sum().unstack(fill_value=0)\n",
    "\n",
    "prematch = profitable_inplay[False]\n",
    "inplay = profitable_inplay[True]\n",
    "profitable_inplay['total_bets'] = prematch + inplay\n",
    "profitable_inplay['prematch_pct'] = prematch / profitable_inplay['total_bets'] * 100\n",
    "profitable_inplay['inplay_pct'] = inplay / profitable_inplay['total_bets'] * 100\n",
    "result = profitable_inplay.sort_values(by='total_bets', ascending=False)[['prematch_pct', 'inplay_pct']]\n",
    "\n",
    "print(result)"
   ]
  },
  {
   "cell_type": "markdown",
   "metadata": {},
   "source": [
    "The majority in horse racing, greyhound racing, soccer and golf are placing prematch bets. \n",
    "\n",
    "Tennis, cricket, rugby union, american football and darts show the opposite. \n",
    "\n",
    "There is an even split in basketball."
   ]
  },
  {
   "cell_type": "code",
   "execution_count": 55,
   "metadata": {},
   "outputs": [
    {
     "name": "stdout",
     "output_type": "stream",
     "text": [
      "max_bet_yn         max_bet_pct\n",
      "sport_name                    \n",
      "Basketball            8.927668\n",
      "Cricket               8.301323\n",
      "Tennis                7.875648\n",
      "Greyhound Racing      4.844785\n",
      "American Football     4.786867\n",
      "Golf                  4.525051\n",
      "Horse Racing          4.351147\n",
      "Darts                 4.214223\n",
      "Soccer                2.950307\n",
      "Rugby Union           2.638984\n"
     ]
    },
    {
     "name": "stderr",
     "output_type": "stream",
     "text": [
      "/var/folders/c4/x7n6xmhs4cx6kr_xww7pf40h0000gn/T/ipykernel_32145/461792050.py:3: FutureWarning: The default of observed=False is deprecated and will be changed to True in a future version of pandas. Pass observed=False to retain current behavior or observed=True to adopt the future default and silence this warning.\n",
      "  max_bet_sport = profitable_bets.groupby(['sport_name', 'max_bet_yn']).size().unstack(fill_value=0)\n"
     ]
    }
   ],
   "source": [
    "# Max bets and profitable bettors \n",
    "\n",
    "max_bet_sport = profitable_bets.groupby(['sport_name', 'max_bet_yn']).size().unstack(fill_value=0)\n",
    "max_bet_sport['total_bets'] = max_bet_sport.sum(axis=1)\n",
    "max_bet_sport['max_bet_pct'] = max_bet_sport[True] / max_bet_sport['total_bets'] * 100\n",
    "\n",
    "print(max_bet_sport[['max_bet_pct']].sort_values(by='max_bet_pct', ascending=False))"
   ]
  },
  {
   "cell_type": "markdown",
   "metadata": {},
   "source": [
    "Across the sports, very few profitable bettors are playing max bets. "
   ]
  },
  {
   "cell_type": "code",
   "execution_count": 56,
   "metadata": {},
   "outputs": [
    {
     "name": "stdout",
     "output_type": "stream",
     "text": [
      "freebet_used_yn    free_bet_pct\n",
      "sport_name                     \n",
      "Horse Racing          19.328362\n",
      "Soccer                12.457250\n",
      "Greyhound Racing      10.001299\n",
      "Tennis                 9.077720\n",
      "Golf                   5.477216\n",
      "American Football      5.035177\n",
      "Basketball             4.944360\n",
      "Cricket                4.929577\n",
      "Darts                  3.906936\n",
      "Rugby Union            2.616169\n"
     ]
    }
   ],
   "source": [
    "# Free bet usage among profitable bettors\n",
    "\n",
    "free_bet_sport = profitable_bets.groupby(['sport_name', 'freebet_used_yn'], observed=True).size().unstack(fill_value=0)\n",
    "\n",
    "free_bet_sport['total_bets'] = free_bet_sport.sum(axis=1)\n",
    "free_bet_sport['free_bet_pct'] = free_bet_sport[True] / free_bet_sport['total_bets'] * 100\n",
    "\n",
    "print(free_bet_sport[['free_bet_pct']].sort_values(by='free_bet_pct', ascending=False))"
   ]
  },
  {
   "cell_type": "markdown",
   "metadata": {},
   "source": [
    "Profitable bettors in horse racing and soccer are using free bets, perhaps to reduce risk. It is clearly an important tool for these popular markets.\n",
    "\n",
    "Other sports show lower rates of use. This could be due to lower promotions. "
   ]
  },
  {
   "cell_type": "code",
   "execution_count": 57,
   "metadata": {},
   "outputs": [
    {
     "name": "stdout",
     "output_type": "stream",
     "text": [
      "Overall average bet in GDP: 11.24\n"
     ]
    }
   ],
   "source": [
    "# Average bet size by customer \n",
    "\n",
    "overall_avg_bet = customer_agg['stakes'].sum() / customer_agg['betcount'].sum()\n",
    "print(f'Overall average bet in GDP: {overall_avg_bet:.2f}')"
   ]
  },
  {
   "cell_type": "code",
   "execution_count": 58,
   "metadata": {},
   "outputs": [
    {
     "name": "stdout",
     "output_type": "stream",
     "text": [
      "          sport_name  avg_bet_size\n",
      "0  American Football     58.565356\n",
      "2            Cricket     33.014176\n",
      "1         Basketball     26.847732\n",
      "9             Tennis     25.857656\n",
      "7        Rugby Union     21.815041\n",
      "3              Darts     16.324898\n",
      "4               Golf     11.415016\n",
      "6       Horse Racing     11.318143\n",
      "5   Greyhound Racing      9.740015\n",
      "8             Soccer      8.450600\n"
     ]
    }
   ],
   "source": [
    "# Average custoner bet by sport \n",
    "\n",
    "sport_agg = bets_df.groupby('sport_name', observed=True).agg({\n",
    "    'stakes': 'sum',\n",
    "    'betcount': 'sum'\n",
    "}).reset_index()\n",
    "\n",
    "sport_agg['avg_bet_size'] = sport_agg['stakes'] / sport_agg['betcount']\n",
    "\n",
    "print(sport_agg[['sport_name', 'avg_bet_size']].sort_values(by='avg_bet_size', ascending=False))"
   ]
  },
  {
   "cell_type": "markdown",
   "metadata": {},
   "source": [
    "When compared to the average customer bet, American Football bettors are placing largest average bets by quite a lot. While horse racing and soccer have highest total overall stakes, they have much smaller average bet sizes. The bettors are likely placing multiple small bets rather than a few big ones. \n",
    "\n",
    "Key takeaway: big bettors are clustered towards more niche and growth sports. "
   ]
  },
  {
   "cell_type": "code",
   "execution_count": 59,
   "metadata": {},
   "outputs": [
    {
     "name": "stdout",
     "output_type": "stream",
     "text": [
      "      avg_bet_size\n",
      "month             \n",
      "Jan       GDP 9.88\n",
      "Feb       GDP 8.50\n",
      "Mar      GDP 10.00\n",
      "Apr       GDP 9.39\n",
      "May      GDP 12.47\n",
      "Jun      GDP 10.62\n",
      "Jul      GDP 12.36\n",
      "Aug      GDP 11.33\n",
      "Sep      GDP 12.47\n",
      "Oct      GDP 12.46\n",
      "Nov      GDP 13.29\n",
      "Dec      GDP 12.18\n"
     ]
    },
    {
     "name": "stderr",
     "output_type": "stream",
     "text": [
      "/var/folders/c4/x7n6xmhs4cx6kr_xww7pf40h0000gn/T/ipykernel_32145/896452471.py:4: FutureWarning: DataFrame.applymap has been deprecated. Use DataFrame.map instead.\n",
      "  print(monthly_totals[['avg_bet_size']].applymap(lambda x: f'GDP {x:.2f}'))\n"
     ]
    }
   ],
   "source": [
    "# Average bet size over the calendar year \n",
    "monthly_totals = bets_df.groupby('month', observed=True).agg({'stakes': 'sum', 'betcount': 'sum'})\n",
    "monthly_totals['avg_bet_size'] = monthly_totals['stakes'] / monthly_totals['betcount']\n",
    "print(monthly_totals[['avg_bet_size']].applymap(lambda x: f'GDP {x:.2f}'))"
   ]
  },
  {
   "cell_type": "markdown",
   "metadata": {},
   "source": [
    "Punters generally bet smaller amounts at the start of the year, although betting amounts remained broadly similar. "
   ]
  },
  {
   "cell_type": "code",
   "execution_count": 60,
   "metadata": {},
   "outputs": [
    {
     "name": "stdout",
     "output_type": "stream",
     "text": [
      "   month  avg_bets_per_account\n",
      "0    Jan             21.778931\n",
      "1    Feb             43.315342\n",
      "2    Mar             39.294858\n",
      "3    Apr             31.369390\n",
      "4    May             35.620337\n",
      "5    Jun             35.558215\n",
      "6    Jul             31.773981\n",
      "7    Aug             39.913033\n",
      "8    Sep             40.538512\n",
      "9    Oct             40.337693\n",
      "10   Nov             40.284746\n",
      "11   Dec             40.088309\n"
     ]
    }
   ],
   "source": [
    "# Average amount of bets placed per year  \n",
    "\n",
    "monthly_bets = bets_df.groupby(['month', 'account_id'], observed=True)['betcount'].sum().reset_index()\n",
    "monthly_summary = monthly_bets.groupby('month', observed=True).agg(\n",
    "    total_bets=('betcount', 'sum'),\n",
    "    unique_accounts=('account_id', 'nunique')\n",
    ").reset_index()\n",
    "\n",
    "monthly_summary['avg_bets_per_account'] = monthly_summary['total_bets'] / monthly_summary['unique_accounts']\n",
    "\n",
    "monthly_summary['month'] = monthly_summary['month'].astype(str)\n",
    "print(monthly_summary[['month', 'avg_bets_per_account']])"
   ]
  },
  {
   "cell_type": "markdown",
   "metadata": {},
   "source": [
    "Customer engagement is lowest in January, with February showing the highest engagement. Engagement is then relatively stable across the calendar year. \n",
    "\n",
    "When exmained along with the earlier chart on monthly bet count, January having both the lowest average bets and lowest total bet count indicates an overall lower engagement. Stakes are at their lowest in this time, so may indicate low-volume betting that is still profitable. Volume overall increases in March onwards but profitability varies, even though average bet rate remains largely the same.\n",
    "\n",
    "August and October are high volume and margin events whereas November maintains high activity rates but reords a loss in revenue. "
   ]
  },
  {
   "cell_type": "code",
   "execution_count": 61,
   "metadata": {},
   "outputs": [
    {
     "name": "stdout",
     "output_type": "stream",
     "text": [
      "Number of accounts active in every month: 2697\n",
      "Percentage of total accounts: 6.88 %\n"
     ]
    }
   ],
   "source": [
    "# Users who were active in every calendar month\n",
    "\n",
    "account_months = bets_df[['account_id', 'month']].drop_duplicates()\n",
    "\n",
    "monthly_activity_count = account_months.groupby('account_id')['month'].nunique().reset_index()\n",
    "monthly_activity_count.columns = ['account_id', 'active_months']\n",
    "fully_active_accounts = monthly_activity_count[monthly_activity_count['active_months'] == 12]\n",
    "total_accounts = monthly_activity_count.shape[0]\n",
    "\n",
    "print(\"Number of accounts active in every month:\", fully_active_accounts.shape[0])\n",
    "print(\"Percentage of total accounts:\", round((fully_active_accounts.shape[0] / total_accounts) * 100, 2), \"%\")"
   ]
  },
  {
   "cell_type": "markdown",
   "metadata": {},
   "source": [
    "## November anomalies "
   ]
  },
  {
   "cell_type": "code",
   "execution_count": 62,
   "metadata": {},
   "outputs": [
    {
     "name": "stdout",
     "output_type": "stream",
     "text": [
      "               Sport           Revenue\n",
      "0  American Football    GDP -99,287.93\n",
      "1               Golf    GDP -55,784.57\n",
      "2         Basketball    GDP -33,634.99\n",
      "3            Cricket    GDP -11,137.45\n",
      "4        Rugby Union     GDP 49,504.18\n",
      "5   Greyhound Racing     GDP 49,985.04\n",
      "6              Darts     GDP 52,097.24\n",
      "7             Tennis     GDP 66,877.95\n",
      "8       Horse Racing    GDP 794,133.06\n",
      "9             Soccer  GDP 1,226,755.25\n"
     ]
    }
   ],
   "source": [
    "# Individual betting stakes across sports \n",
    "\n",
    "nov_individual_sport_revenue = bets_df.groupby('sport_name', observed=True)['revenue'].sum().sort_values()\n",
    "nov_df = nov_individual_sport_revenue.reset_index()\n",
    "nov_df.columns = ['Sport', 'Revenue']\n",
    "nov_df['Revenue'] = nov_df['Revenue'].map(lambda x: f\"GDP {x:,.2f}\")\n",
    "\n",
    "print(nov_df)"
   ]
  },
  {
   "cell_type": "markdown",
   "metadata": {},
   "source": [
    "November's revenue drop is driven by large losses in basketball, American football, golf and cricket. \n",
    "\n",
    "Soccer and horse racing provided the highest positive revenues. Tennis, rugby union, darts and greyhound racing are also profitable (albeit smaller)."
   ]
  },
  {
   "cell_type": "code",
   "execution_count": 63,
   "metadata": {},
   "outputs": [
    {
     "name": "stdout",
     "output_type": "stream",
     "text": [
      "sport_name\n",
      "Basketball           26.53\n",
      "Cricket              19.53\n",
      "Tennis               16.80\n",
      "Darts                11.88\n",
      "Greyhound Racing     11.66\n",
      "Golf                 11.06\n",
      "American Football     9.23\n",
      "Horse Racing          6.63\n",
      "Soccer                5.36\n",
      "Rugby Union           4.80\n",
      "dtype: float64\n"
     ]
    }
   ],
   "source": [
    "# Max bet usage in November\n",
    "# Overall avg mx bet in Nov = 7%\n",
    "\n",
    "nov_bets = bets_df[bets_df['month'] == 'Nov']\n",
    "max_bet_counts = nov_bets.groupby(['sport_name', 'max_bet_yn'], observed=True).size().unstack(fill_value=0)\n",
    "\n",
    "max_bet_percent = (max_bet_counts[True] / (max_bet_counts[True] + max_bet_counts[False])) * 100\n",
    "max_bet_percent = max_bet_percent.sort_values(ascending=False).round(2)\n",
    "\n",
    "print(max_bet_percent)"
   ]
  },
  {
   "cell_type": "markdown",
   "metadata": {},
   "source": [
    "Basketball, cricket, American football and golf (as well as having incurred losses) saw higher rates of max bet usage by clients than the average. \n",
    "\n",
    "Overall, the minor sports saw a higher rate of max bet usage than the average.\n",
    "\n",
    "Soccer and horse racing punters did not deviate from their usual pattern - they typically avoid using max bets. So, the upswing in max bet rates for Nov was caused by ultimately less profitable sports."
   ]
  },
  {
   "cell_type": "code",
   "execution_count": 64,
   "metadata": {},
   "outputs": [
    {
     "name": "stdout",
     "output_type": "stream",
     "text": [
      "                 revenue      stakes  margin_percent\n",
      "in_play_yn                                          \n",
      "False      -79435.703125  5303139.50       -1.497900\n",
      "True        25331.197266  1092935.75        2.317721\n"
     ]
    }
   ],
   "source": [
    "# In play betting profitability in November \n",
    "# Average rate of in-play/pre-match rates was consistent with yearly average \n",
    "\n",
    "nov_bets = bets_df[bets_df['month'] == 'Nov']\n",
    "nov_profitability = nov_bets.groupby('in_play_yn').agg({\n",
    "    'revenue': 'sum',\n",
    "    'stakes': 'sum'\n",
    "})\n",
    "nov_profitability['margin_percent'] = (nov_profitability['revenue'] / nov_profitability['stakes']) * 100\n",
    "\n",
    "print(nov_profitability)"
   ]
  },
  {
   "cell_type": "markdown",
   "metadata": {},
   "source": [
    "In-play betting was profitable but pre-match was losing money. This is not in line with the overall yearly trend, which was positive. "
   ]
  },
  {
   "cell_type": "code",
   "execution_count": 65,
   "metadata": {},
   "outputs": [
    {
     "name": "stdout",
     "output_type": "stream",
     "text": [
      "in_play_yn         prematch_pct  inplay_pct\n",
      "sport_name                                 \n",
      "Tennis                11.412717   88.587288\n",
      "Cricket               11.653279   88.346718\n",
      "Rugby Union           51.389400   48.610596\n",
      "Basketball            52.607857   47.392139\n",
      "Darts                 57.483536   42.516468\n",
      "Soccer                71.050247   28.949755\n",
      "Golf                  78.562401   21.437607\n",
      "American Football     90.279045    9.720955\n",
      "Horse Racing          98.044128    1.955875\n",
      "Greyhound Racing     100.000000    0.000000\n"
     ]
    }
   ],
   "source": [
    "# prematch vs in-play betting habits by sport in november \n",
    "\n",
    "nov_df = bets_df[bets_df['month'] == 'Nov']\n",
    "nov_sport_inplay = nov_df.groupby(['sport_name', 'in_play_yn'], observed=True)['stakes'].sum().unstack(fill_value=0)\n",
    "nov_sport_inplay['total_stakes'] = nov_sport_inplay.sum(axis=1)\n",
    "\n",
    "nov_sport_inplay['prematch_pct'] = 100 * nov_sport_inplay[False] / nov_sport_inplay['total_stakes']\n",
    "nov_sport_inplay['inplay_pct'] = 100 * nov_sport_inplay[True] / nov_sport_inplay['total_stakes']\n",
    "result = nov_sport_inplay[['prematch_pct', 'inplay_pct']].sort_values(by='inplay_pct', ascending=False)\n",
    "\n",
    "print(result)"
   ]
  },
  {
   "cell_type": "markdown",
   "metadata": {},
   "source": [
    "This is quite consistent with the broader yearly pattern, as seen previously by sport. "
   ]
  },
  {
   "cell_type": "code",
   "execution_count": 66,
   "metadata": {},
   "outputs": [
    {
     "name": "stdout",
     "output_type": "stream",
     "text": [
      "                  avg_bet_size\n",
      "sport_name                    \n",
      "American Football    GDP 66.33\n",
      "Basketball           GDP 20.24\n",
      "Cricket              GDP 29.34\n",
      "Darts                GDP 20.38\n",
      "Golf                 GDP 10.71\n",
      "Greyhound Racing     GDP 10.17\n",
      "Horse Racing         GDP 12.72\n",
      "Rugby Union          GDP 16.66\n",
      "Soccer               GDP 10.63\n",
      "Tennis               GDP 19.20\n"
     ]
    },
    {
     "name": "stderr",
     "output_type": "stream",
     "text": [
      "/var/folders/c4/x7n6xmhs4cx6kr_xww7pf40h0000gn/T/ipykernel_32145/2436715334.py:7: FutureWarning: DataFrame.applymap has been deprecated. Use DataFrame.map instead.\n",
      "  print(sport_avg_nov[['avg_bet_size']].applymap(lambda x: f'GDP {x:.2f}'))\n"
     ]
    }
   ],
   "source": [
    "# Average bet size by sport in November \n",
    "# Overall average bet size: 13.28\n",
    "\n",
    "november_bets = bets_df[bets_df['month'] == 'Nov']\n",
    "sport_avg_nov = november_bets.groupby('sport_name', observed=True).agg({'stakes': 'sum', 'betcount': 'sum'})\n",
    "sport_avg_nov['avg_bet_size'] = sport_avg_nov['stakes'] / sport_avg_nov['betcount']\n",
    "print(sport_avg_nov[['avg_bet_size']].applymap(lambda x: f'GDP {x:.2f}'))"
   ]
  },
  {
   "cell_type": "markdown",
   "metadata": {},
   "source": [
    "American football, cricket, basketball had larger than average bets but produced losses. There appears to be a pattern of riskier behaviour in November. \n",
    "\n",
    "Soccer, horse and greyhound racing all placing below average/average bet sizes but returning revenue. \n",
    "\n",
    "Interestingly, darts, tennis and rugby union all have higher than average bet sizes and are profitable. "
   ]
  },
  {
   "cell_type": "code",
   "execution_count": 67,
   "metadata": {},
   "outputs": [
    {
     "name": "stdout",
     "output_type": "stream",
     "text": [
      "bet_type           Multiple  Single\n",
      "sport_name                         \n",
      "American Football     27.07   72.93\n",
      "Basketball            31.17   68.83\n",
      "Cricket               13.41   86.59\n",
      "Darts                 48.52   51.48\n",
      "Golf                  15.85   84.15\n",
      "Greyhound Racing      15.13   84.87\n",
      "Horse Racing          23.18   76.82\n",
      "Rugby Union           32.59   67.41\n",
      "Soccer                50.16   49.84\n",
      "Tennis                26.22   73.78\n"
     ]
    }
   ],
   "source": [
    "# Bet type popularity by sport in November \n",
    "\n",
    "nov_bets = bets_df[bets_df['month'] == 'Nov']\n",
    "nov_bet_type = nov_bets.groupby(['sport_name', 'bet_type'], observed=True)['betcount'].sum().unstack(fill_value=0)\n",
    "nov_bet_type_pct = nov_bet_type.div(nov_bet_type.sum(axis=1), axis=0) * 100\n",
    "nov_bet_type_pct = nov_bet_type_pct.round(2)\n",
    "\n",
    "print(nov_bet_type_pct)"
   ]
  },
  {
   "cell_type": "markdown",
   "metadata": {},
   "source": [
    "Some slight deviations from the yearly trend: \n",
    "- Multiple bet usage is up in loss-heavy sports (American football and basketball), and these also saw more multiple bets than usual. \n",
    "- No big change in horse racing, cricket, tennis etc. "
   ]
  },
  {
   "cell_type": "code",
   "execution_count": 68,
   "metadata": {},
   "outputs": [
    {
     "name": "stdout",
     "output_type": "stream",
     "text": [
      "               stakes        revenue  profit_margin\n",
      "bet_type                                           \n",
      "Multiple   961330.375   75353.843750         0.0784\n",
      "Single    5434745.000 -129458.351562        -0.0238\n"
     ]
    }
   ],
   "source": [
    "# Bet type profitability in November\n",
    "\n",
    "nov_bet_profit = nov_bets.groupby('bet_type', observed=True)[['stakes', 'revenue']].sum()\n",
    "nov_bet_profit['profit_margin'] = nov_bet_profit['revenue'] / nov_bet_profit['stakes']\n",
    "print(nov_bet_profit.round(4))"
   ]
  },
  {
   "cell_type": "markdown",
   "metadata": {},
   "source": [
    "There are relatively small stakes in the multiples but a small profit margin. However, singles had huge stakes but negative profit margin. \n",
    "\n",
    "Therefore, much of the revenue drop could be driven by losses on these single bets. "
   ]
  },
  {
   "cell_type": "code",
   "execution_count": 69,
   "metadata": {},
   "outputs": [
    {
     "name": "stdout",
     "output_type": "stream",
     "text": [
      "          sport_name         stakes      revenue  betcount  profit_margin\n",
      "0  American Football  463610.718750  5855.940430      5358       0.012631\n",
      "1         Basketball  151918.812500 -5656.879883      5720      -0.037236\n",
      "2            Cricket  139408.171875 -2610.068359      4159      -0.018722\n",
      "3              Darts       0.000000     0.000000         0            NaN\n",
      "4               Golf   47885.414062  1896.161743      4348       0.039598\n",
      "5   Greyhound Racing       0.000000     0.000000         0            NaN\n",
      "6       Horse Racing       0.000000     0.000000         0            NaN\n",
      "7        Rugby Union       0.000000     0.000000         0            NaN\n",
      "8             Soccer       0.000000     0.000000         0            NaN\n",
      "9             Tennis       0.000000     0.000000         0            NaN\n"
     ]
    },
    {
     "name": "stderr",
     "output_type": "stream",
     "text": [
      "/var/folders/c4/x7n6xmhs4cx6kr_xww7pf40h0000gn/T/ipykernel_32145/1849944305.py:11: FutureWarning: The default of observed=False is deprecated and will be changed to True in a future version of pandas. Pass observed=False to retain current behavior or observed=True to adopt the future default and silence this warning.\n",
      "  summary = nov_singles_loss_sports.groupby('sport_name').agg({\n"
     ]
    }
   ],
   "source": [
    "# Singles betting on the loss making sports\n",
    "\n",
    "loss_sports = ['American Football', 'Golf', 'Basketball', 'Cricket']\n",
    "\n",
    "nov_singles_loss_sports = bets_df[\n",
    "    (bets_df['month'] == 'Nov') &\n",
    "    (bets_df['sport_name'].isin(loss_sports)) &\n",
    "    (bets_df['bet_type'] == 'Single')\n",
    "]\n",
    "\n",
    "summary = nov_singles_loss_sports.groupby('sport_name').agg({\n",
    "    'stakes': 'sum',\n",
    "    'revenue': 'sum',\n",
    "    'betcount': 'sum'\n",
    "}).reset_index()\n",
    "\n",
    "summary['profit_margin'] = summary['revenue'] / summary['stakes']\n",
    "print(summary)\n"
   ]
  },
  {
   "cell_type": "markdown",
   "metadata": {},
   "source": [
    "American football: singles bets here are making a slight profit (so loss is coming from multiples). \n",
    "\n",
    "Basketball and cricket: singles are losing money. \n"
   ]
  },
  {
   "cell_type": "code",
   "execution_count": 70,
   "metadata": {},
   "outputs": [
    {
     "name": "stdout",
     "output_type": "stream",
     "text": [
      "          sport_name        stakes       revenue  betcount  profit_margin\n",
      "0  American Football  23682.722656 -12584.094727      1989      -0.531362\n",
      "1         Basketball  16234.614258   6049.737793      2590       0.372644\n",
      "2            Cricket   1498.279785   -623.302795       644      -0.416012\n",
      "3              Darts      0.000000      0.000000         0            NaN\n",
      "4               Golf   7463.957031 -51875.570312       819      -6.950143\n",
      "5   Greyhound Racing      0.000000      0.000000         0            NaN\n",
      "6       Horse Racing      0.000000      0.000000         0            NaN\n",
      "7        Rugby Union      0.000000      0.000000         0            NaN\n",
      "8             Soccer      0.000000      0.000000         0            NaN\n",
      "9             Tennis      0.000000      0.000000         0            NaN\n"
     ]
    },
    {
     "name": "stderr",
     "output_type": "stream",
     "text": [
      "/var/folders/c4/x7n6xmhs4cx6kr_xww7pf40h0000gn/T/ipykernel_32145/3537035747.py:9: FutureWarning: The default of observed=False is deprecated and will be changed to True in a future version of pandas. Pass observed=False to retain current behavior or observed=True to adopt the future default and silence this warning.\n",
      "  summary = nov_multiple_loss_sports.groupby('sport_name').agg({\n"
     ]
    }
   ],
   "source": [
    "# Multiples betting on the loss making sports\n",
    "\n",
    "nov_multiple_loss_sports = bets_df[\n",
    "    (bets_df['month'] == 'Nov') &\n",
    "    (bets_df['sport_name'].isin(loss_sports)) &\n",
    "    (bets_df['bet_type'] == 'Multiple')\n",
    "]\n",
    "\n",
    "summary = nov_multiple_loss_sports.groupby('sport_name').agg({\n",
    "    'stakes': 'sum',\n",
    "    'revenue': 'sum',\n",
    "    'betcount': 'sum'\n",
    "}).reset_index()\n",
    "\n",
    "summary['profit_margin'] = summary['revenue'] / summary['stakes']\n",
    "print(summary)"
   ]
  },
  {
   "cell_type": "markdown",
   "metadata": {},
   "source": [
    "Multiple bets are highly unprofitable in American Football, making a huge loss of -53%. Generally, riskier player behaviour (high average bet size etc) hurt profitability.\n",
    "\n",
    "Multiples in basketball are making a profit. \n",
    "\n",
    "In both golf and cricket, multiple bets are unprofitable."
   ]
  },
  {
   "cell_type": "markdown",
   "metadata": {},
   "source": [
    "## Saving cleaned datafiles"
   ]
  },
  {
   "cell_type": "code",
   "execution_count": 71,
   "metadata": {},
   "outputs": [
    {
     "name": "stdout",
     "output_type": "stream",
     "text": [
      "   account_id     marketing_channel account_open_datetime residence_country  \\\n",
      "0           1                   SEO   2015-03-19 18:41:41           Ireland   \n",
      "1           2  PPC (inc Competitor)   2018-04-14 11:13:03    United Kingdom   \n",
      "2           3                   SEO   2015-04-11 09:35:37    United Kingdom   \n",
      "3           4                Direct   2016-08-21 15:01:47    United Kingdom   \n",
      "4           5                   SEO   2006-10-05 19:25:48           Ireland   \n",
      "\n",
      "  sharp_yn   country_group  account_open_year  account_open_month  sharp_flag  \n",
      "0        N         Ireland               2015                   3           0  \n",
      "1        N  United Kingdom               2018                   4           0  \n",
      "2        N  United Kingdom               2015                   4           0  \n",
      "3        N  United Kingdom               2016                   8           0  \n",
      "4        N         Ireland               2006                  10           0  \n"
     ]
    }
   ],
   "source": [
    "print(customers_df.head())"
   ]
  },
  {
   "cell_type": "code",
   "execution_count": 72,
   "metadata": {},
   "outputs": [
    {
     "name": "stdout",
     "output_type": "stream",
     "text": [
      "   account_id     marketing_channel sharp_yn   country_group  \\\n",
      "0           1                   SEO        N         Ireland   \n",
      "1           2  PPC (inc Competitor)        N  United Kingdom   \n",
      "2           3                   SEO        N  United Kingdom   \n",
      "3           4                Direct        N  United Kingdom   \n",
      "4           5                   SEO        N         Ireland   \n",
      "\n",
      "   account_open_year  account_open_month  sharp_flag  \n",
      "0               2015                   3           0  \n",
      "1               2018                   4           0  \n",
      "2               2015                   4           0  \n",
      "3               2016                   8           0  \n",
      "4               2006                  10           0  \n"
     ]
    }
   ],
   "source": [
    "# Removing residence_country and account_open_datetime to reduce load \n",
    "\n",
    "customers_df.drop(columns=['account_open_datetime', 'residence_country'], inplace=True)\n",
    "print(customers_df.head())"
   ]
  },
  {
   "cell_type": "code",
   "execution_count": 73,
   "metadata": {},
   "outputs": [],
   "source": [
    "# Saving updated customers_df\n",
    "\n",
    "customers_df.to_csv('sportsbook_customers.csv', index=False)"
   ]
  },
  {
   "cell_type": "code",
   "execution_count": 74,
   "metadata": {},
   "outputs": [
    {
     "name": "stdout",
     "output_type": "stream",
     "text": [
      "  month  account_id    sport_name  in_play_yn  freebet_used_yn  bet_type  \\\n",
      "0   Mar       26928  Horse Racing       False            False    Single   \n",
      "1   Jul         710          Golf       False            False    Single   \n",
      "2   Nov       12592        Soccer       False            False  Multiple   \n",
      "3   Nov         349        Soccer       False            False    Single   \n",
      "4   Nov       15999        Soccer       False            False    Single   \n",
      "\n",
      "   max_bet_yn         market_group     stakes    revenue  betcount  \n",
      "0       False   Derivative Markets   9.282234   9.282234         1  \n",
      "1       False             Outright   8.715135   8.715135         1  \n",
      "2       False           Match Odds   9.395684   9.395684         2  \n",
      "3        True  Commercial Specials  18.583441  18.583441         1  \n",
      "4       False   Over/Under Markets  16.669624   8.334812         2  \n"
     ]
    }
   ],
   "source": [
    "print(bets_df.head())"
   ]
  },
  {
   "cell_type": "code",
   "execution_count": 75,
   "metadata": {},
   "outputs": [],
   "source": [
    "# Saving updated bets_df\n",
    "\n",
    "bets_df.to_csv('sportsbook_bets.csv', index=False)"
   ]
  }
 ],
 "metadata": {
  "kernelspec": {
   "display_name": "dataprep",
   "language": "python",
   "name": "python3"
  },
  "language_info": {
   "codemirror_mode": {
    "name": "ipython",
    "version": 3
   },
   "file_extension": ".py",
   "mimetype": "text/x-python",
   "name": "python",
   "nbconvert_exporter": "python",
   "pygments_lexer": "ipython3",
   "version": "3.12.3"
  }
 },
 "nbformat": 4,
 "nbformat_minor": 2
}
